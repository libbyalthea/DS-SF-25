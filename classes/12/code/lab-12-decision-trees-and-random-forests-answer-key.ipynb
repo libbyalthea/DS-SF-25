{
 "cells": [
  {
   "cell_type": "markdown",
   "metadata": {},
   "source": [
    "# DS-SF-25 | Lab 12 | Decision Trees and Random Forests | Answer Key"
   ]
  },
  {
   "cell_type": "code",
   "execution_count": 28,
   "metadata": {
    "collapsed": true
   },
   "outputs": [],
   "source": [
    "import os\n",
    "\n",
    "import numpy as np\n",
    "import pandas as pd\n",
    "pd.set_option('display.max_rows', 10)\n",
    "pd.set_option('display.notebook_repr_html', True)\n",
    "pd.set_option('display.max_columns', 10)\n",
    "\n",
    "from sklearn import tree, ensemble, metrics, cross_validation, externals\n",
    "\n",
    "import matplotlib.pyplot as plt\n",
    "%matplotlib inline\n",
    "plt.style.use('ggplot')"
   ]
  },
  {
   "cell_type": "markdown",
   "metadata": {},
   "source": [
    "Today we are revisiting the `boston` dataset from session 8."
   ]
  },
  {
   "cell_type": "markdown",
   "metadata": {},
   "source": [
    "## Dataset documentation"
   ]
  },
  {
   "cell_type": "markdown",
   "metadata": {},
   "source": [
    "The Boston dataset concerns itself with housing values in suburbs of Boston.  A description of the dataset is as follows:\n",
    "\n",
    "- CRIM: per capita crime rate by town\n",
    "- ZN: proportion of residential land zoned for lots over 25,000 sqft\n",
    "- INDUS: proportion of non-retail business acres per town\n",
    "- CHAS: Charles River dummy variable (= 1 if tract bounds river; 0 otherwise)\n",
    "- NOX: nitric oxides concentration (parts per 10 million)\n",
    "- RM: average number of rooms per dwelling\n",
    "- AGE: proportion of owner-occupied units built prior to 1940\n",
    "- DIS: weighted distances to five Boston employment centers\n",
    "- RAD: index of accessibility to radial highways\n",
    "- TAX: full-value property-tax rate (per ten thousands of dollars)\n",
    "- PTRATIO: pupil-teacher ratio by town\n",
    "- B: 1000(Bk - 0.63)^2 where Bk is the proportion of blacks by town\n",
    "- LSTAT: % lower status of the population\n",
    "- MEDV: Median value of owner-occupied homes (in thousands of dollars)"
   ]
  },
  {
   "cell_type": "markdown",
   "metadata": {},
   "source": [
    "## Optional: Installing Graphviz"
   ]
  },
  {
   "cell_type": "markdown",
   "metadata": {},
   "source": [
    "- Mac\n",
    "  - Type `conda install graphviz` at the command line\n",
    "- Windows\n",
    "  - Download and install the MSI file: http://www.graphviz.org/Download_windows.php\n",
    "  - Add it to your Path: Go to Control Panel, System, Advanced System Settings, Environment Variables.  Under system variables,edit \"Path\" to include the path to the \"bin\" folder, such as: C:\\Program Files (x86)\\Graphviz2.38\\bin"
   ]
  },
  {
   "cell_type": "code",
   "execution_count": 29,
   "metadata": {
    "collapsed": false
   },
   "outputs": [
    {
     "name": "stdout",
     "output_type": "stream",
     "text": [
      "Installed gvmagic.py. To use it, type:\n",
      "  %load_ext gvmagic\n"
     ]
    }
   ],
   "source": [
    "%install_ext https://raw.github.com/cjdrake/ipython-magic/master/gvmagic.py\n",
    "%load_ext gvmagic"
   ]
  },
  {
   "cell_type": "code",
   "execution_count": 30,
   "metadata": {
    "collapsed": false,
    "scrolled": true
   },
   "outputs": [
    {
     "name": "stdout",
     "output_type": "stream",
     "text": [
      "The gvmagic extension is already loaded. To reload it, use:\n",
      "  %reload_ext gvmagic\n"
     ]
    }
   ],
   "source": [
    "%load_ext gvmagic"
   ]
  },
  {
   "cell_type": "code",
   "execution_count": 31,
   "metadata": {
    "collapsed": true
   },
   "outputs": [],
   "source": [
    "df = pd.read_csv(os.path.join('..', 'datasets', 'boston.csv'))"
   ]
  },
  {
   "cell_type": "code",
   "execution_count": 32,
   "metadata": {
    "collapsed": false
   },
   "outputs": [
    {
     "data": {
      "text/html": [
       "<div>\n",
       "<table border=\"1\" class=\"dataframe\">\n",
       "  <thead>\n",
       "    <tr style=\"text-align: right;\">\n",
       "      <th></th>\n",
       "      <th>CRIM</th>\n",
       "      <th>ZN</th>\n",
       "      <th>INDUS</th>\n",
       "      <th>CHAS</th>\n",
       "      <th>NOX</th>\n",
       "      <th>...</th>\n",
       "      <th>TAX</th>\n",
       "      <th>PTRATIO</th>\n",
       "      <th>BLACK</th>\n",
       "      <th>LSTAT</th>\n",
       "      <th>MEDV</th>\n",
       "    </tr>\n",
       "  </thead>\n",
       "  <tbody>\n",
       "    <tr>\n",
       "      <th>0</th>\n",
       "      <td>0.00632</td>\n",
       "      <td>18.0</td>\n",
       "      <td>2.31</td>\n",
       "      <td>0</td>\n",
       "      <td>0.538</td>\n",
       "      <td>...</td>\n",
       "      <td>296</td>\n",
       "      <td>15.3</td>\n",
       "      <td>396.90</td>\n",
       "      <td>4.98</td>\n",
       "      <td>24.0</td>\n",
       "    </tr>\n",
       "    <tr>\n",
       "      <th>1</th>\n",
       "      <td>0.02731</td>\n",
       "      <td>0.0</td>\n",
       "      <td>7.07</td>\n",
       "      <td>0</td>\n",
       "      <td>0.469</td>\n",
       "      <td>...</td>\n",
       "      <td>242</td>\n",
       "      <td>17.8</td>\n",
       "      <td>396.90</td>\n",
       "      <td>9.14</td>\n",
       "      <td>21.6</td>\n",
       "    </tr>\n",
       "    <tr>\n",
       "      <th>2</th>\n",
       "      <td>0.02729</td>\n",
       "      <td>0.0</td>\n",
       "      <td>7.07</td>\n",
       "      <td>0</td>\n",
       "      <td>0.469</td>\n",
       "      <td>...</td>\n",
       "      <td>242</td>\n",
       "      <td>17.8</td>\n",
       "      <td>392.83</td>\n",
       "      <td>4.03</td>\n",
       "      <td>34.7</td>\n",
       "    </tr>\n",
       "    <tr>\n",
       "      <th>3</th>\n",
       "      <td>0.03237</td>\n",
       "      <td>0.0</td>\n",
       "      <td>2.18</td>\n",
       "      <td>0</td>\n",
       "      <td>0.458</td>\n",
       "      <td>...</td>\n",
       "      <td>222</td>\n",
       "      <td>18.7</td>\n",
       "      <td>394.63</td>\n",
       "      <td>2.94</td>\n",
       "      <td>33.4</td>\n",
       "    </tr>\n",
       "    <tr>\n",
       "      <th>4</th>\n",
       "      <td>0.06905</td>\n",
       "      <td>0.0</td>\n",
       "      <td>2.18</td>\n",
       "      <td>0</td>\n",
       "      <td>0.458</td>\n",
       "      <td>...</td>\n",
       "      <td>222</td>\n",
       "      <td>18.7</td>\n",
       "      <td>396.90</td>\n",
       "      <td>5.33</td>\n",
       "      <td>36.2</td>\n",
       "    </tr>\n",
       "    <tr>\n",
       "      <th>...</th>\n",
       "      <td>...</td>\n",
       "      <td>...</td>\n",
       "      <td>...</td>\n",
       "      <td>...</td>\n",
       "      <td>...</td>\n",
       "      <td>...</td>\n",
       "      <td>...</td>\n",
       "      <td>...</td>\n",
       "      <td>...</td>\n",
       "      <td>...</td>\n",
       "      <td>...</td>\n",
       "    </tr>\n",
       "    <tr>\n",
       "      <th>501</th>\n",
       "      <td>0.06263</td>\n",
       "      <td>0.0</td>\n",
       "      <td>11.93</td>\n",
       "      <td>0</td>\n",
       "      <td>0.573</td>\n",
       "      <td>...</td>\n",
       "      <td>273</td>\n",
       "      <td>21.0</td>\n",
       "      <td>391.99</td>\n",
       "      <td>9.67</td>\n",
       "      <td>22.4</td>\n",
       "    </tr>\n",
       "    <tr>\n",
       "      <th>502</th>\n",
       "      <td>0.04527</td>\n",
       "      <td>0.0</td>\n",
       "      <td>11.93</td>\n",
       "      <td>0</td>\n",
       "      <td>0.573</td>\n",
       "      <td>...</td>\n",
       "      <td>273</td>\n",
       "      <td>21.0</td>\n",
       "      <td>396.90</td>\n",
       "      <td>9.08</td>\n",
       "      <td>20.6</td>\n",
       "    </tr>\n",
       "    <tr>\n",
       "      <th>503</th>\n",
       "      <td>0.06076</td>\n",
       "      <td>0.0</td>\n",
       "      <td>11.93</td>\n",
       "      <td>0</td>\n",
       "      <td>0.573</td>\n",
       "      <td>...</td>\n",
       "      <td>273</td>\n",
       "      <td>21.0</td>\n",
       "      <td>396.90</td>\n",
       "      <td>5.64</td>\n",
       "      <td>23.9</td>\n",
       "    </tr>\n",
       "    <tr>\n",
       "      <th>504</th>\n",
       "      <td>0.10959</td>\n",
       "      <td>0.0</td>\n",
       "      <td>11.93</td>\n",
       "      <td>0</td>\n",
       "      <td>0.573</td>\n",
       "      <td>...</td>\n",
       "      <td>273</td>\n",
       "      <td>21.0</td>\n",
       "      <td>393.45</td>\n",
       "      <td>6.48</td>\n",
       "      <td>22.0</td>\n",
       "    </tr>\n",
       "    <tr>\n",
       "      <th>505</th>\n",
       "      <td>0.04741</td>\n",
       "      <td>0.0</td>\n",
       "      <td>11.93</td>\n",
       "      <td>0</td>\n",
       "      <td>0.573</td>\n",
       "      <td>...</td>\n",
       "      <td>273</td>\n",
       "      <td>21.0</td>\n",
       "      <td>396.90</td>\n",
       "      <td>7.88</td>\n",
       "      <td>11.9</td>\n",
       "    </tr>\n",
       "  </tbody>\n",
       "</table>\n",
       "<p>506 rows × 14 columns</p>\n",
       "</div>"
      ],
      "text/plain": [
       "        CRIM    ZN  INDUS  CHAS    NOX  ...   TAX  PTRATIO   BLACK  LSTAT  \\\n",
       "0    0.00632  18.0   2.31     0  0.538  ...   296     15.3  396.90   4.98   \n",
       "1    0.02731   0.0   7.07     0  0.469  ...   242     17.8  396.90   9.14   \n",
       "2    0.02729   0.0   7.07     0  0.469  ...   242     17.8  392.83   4.03   \n",
       "3    0.03237   0.0   2.18     0  0.458  ...   222     18.7  394.63   2.94   \n",
       "4    0.06905   0.0   2.18     0  0.458  ...   222     18.7  396.90   5.33   \n",
       "..       ...   ...    ...   ...    ...  ...   ...      ...     ...    ...   \n",
       "501  0.06263   0.0  11.93     0  0.573  ...   273     21.0  391.99   9.67   \n",
       "502  0.04527   0.0  11.93     0  0.573  ...   273     21.0  396.90   9.08   \n",
       "503  0.06076   0.0  11.93     0  0.573  ...   273     21.0  396.90   5.64   \n",
       "504  0.10959   0.0  11.93     0  0.573  ...   273     21.0  393.45   6.48   \n",
       "505  0.04741   0.0  11.93     0  0.573  ...   273     21.0  396.90   7.88   \n",
       "\n",
       "     MEDV  \n",
       "0    24.0  \n",
       "1    21.6  \n",
       "2    34.7  \n",
       "3    33.4  \n",
       "4    36.2  \n",
       "..    ...  \n",
       "501  22.4  \n",
       "502  20.6  \n",
       "503  23.9  \n",
       "504  22.0  \n",
       "505  11.9  \n",
       "\n",
       "[506 rows x 14 columns]"
      ]
     },
     "execution_count": 32,
     "metadata": {},
     "output_type": "execute_result"
    }
   ],
   "source": [
    "df"
   ]
  },
  {
   "cell_type": "code",
   "execution_count": 33,
   "metadata": {
    "collapsed": false
   },
   "outputs": [
    {
     "data": {
      "text/plain": [
       "Index([u'CRIM', u'ZN', u'INDUS', u'CHAS', u'NOX', u'RM', u'AGE', u'DIS',\n",
       "       u'RAD', u'TAX', u'PTRATIO', u'BLACK', u'LSTAT', u'MEDV'],\n",
       "      dtype='object')"
      ]
     },
     "execution_count": 33,
     "metadata": {},
     "output_type": "execute_result"
    }
   ],
   "source": [
    "df.columns"
   ]
  },
  {
   "cell_type": "markdown",
   "metadata": {},
   "source": [
    "## Part A - Regression Decision Trees"
   ]
  },
  {
   "cell_type": "markdown",
   "metadata": {},
   "source": [
    "> ### Question 1.  Create a feature matrix `X` with all features but `MEDV`.  Also create a response vector `y` with `MEDV`"
   ]
  },
  {
   "cell_type": "code",
   "execution_count": 34,
   "metadata": {
    "collapsed": true
   },
   "outputs": [],
   "source": [
    "X = df[df.columns.values]\n",
    "X.drop('MEDV', axis = 1, inplace = True)\n",
    "\n",
    "y = df.MEDV"
   ]
  },
  {
   "cell_type": "markdown",
   "metadata": {},
   "source": [
    "> ### Question 2.  Split the dataset into a training and testing sets (60%, 40%)"
   ]
  },
  {
   "cell_type": "code",
   "execution_count": 35,
   "metadata": {
    "collapsed": true
   },
   "outputs": [],
   "source": [
    "train_X, test_X, train_y, test_y = cross_validation.train_test_split(X, y, train_size = 0.6, random_state = 0)"
   ]
  },
  {
   "cell_type": "markdown",
   "metadata": {},
   "source": [
    "> ### Question 3.  Create a decision tree (`tree.DecisionTreeRegressor`) and train the model"
   ]
  },
  {
   "cell_type": "markdown",
   "metadata": {},
   "source": [
    "(Check http://scikit-learn.org/stable/modules/generated/sklearn.tree.DecisionTreeRegressor.html as needed)"
   ]
  },
  {
   "cell_type": "code",
   "execution_count": 36,
   "metadata": {
    "collapsed": false
   },
   "outputs": [],
   "source": [
    "model = tree.DecisionTreeRegressor(random_state = 0).\\\n",
    "    fit(train_X, train_y)"
   ]
  },
  {
   "cell_type": "markdown",
   "metadata": {},
   "source": [
    "> ### Question 4.  What are the training and testing errors?"
   ]
  },
  {
   "cell_type": "markdown",
   "metadata": {},
   "source": [
    "(Check http://scikit-learn.org/stable/modules/generated/sklearn.metrics.mean_squared_error.html as needed)"
   ]
  },
  {
   "cell_type": "code",
   "execution_count": 37,
   "metadata": {
    "collapsed": false
   },
   "outputs": [
    {
     "name": "stdout",
     "output_type": "stream",
     "text": [
      "0.0\n",
      "3.66642333869\n"
     ]
    }
   ],
   "source": [
    "train_y_hat = model.predict(train_X)\n",
    "print np.sqrt(metrics.mean_squared_error(train_y, train_y_hat))\n",
    "\n",
    "test_y_hat = model.predict(test_X)\n",
    "print np.sqrt(metrics.mean_squared_error(test_y, test_y_hat))"
   ]
  },
  {
   "cell_type": "markdown",
   "metadata": {},
   "source": [
    "Answer: .0 (training) and ~3.67 (testing)"
   ]
  },
  {
   "cell_type": "markdown",
   "metadata": {},
   "source": [
    "> ### Question 5.  Retrain your model limiting the depth of the tree to 4"
   ]
  },
  {
   "cell_type": "code",
   "execution_count": 38,
   "metadata": {
    "collapsed": false
   },
   "outputs": [],
   "source": [
    "model = tree.DecisionTreeRegressor(max_depth = 4, random_state = 0).\\\n",
    "    fit(train_X, train_y)"
   ]
  },
  {
   "cell_type": "markdown",
   "metadata": {},
   "source": [
    "> ### Question 6.  Display graphically your model"
   ]
  },
  {
   "cell_type": "code",
   "execution_count": 43,
   "metadata": {
    "collapsed": true
   },
   "outputs": [],
   "source": [
    "def visualize_tree(tree, feature_names):\n",
    "    \"\"\"Create tree png using graphviz.\n",
    "\n",
    "    Args\n",
    "    ----\n",
    "    tree -- scikit-learn DecsisionTree.\n",
    "    feature_names -- list of feature names.\n",
    "    \"\"\"\n",
    "    with open(\"dt.dot\", 'w') as f:\n",
    "        export_graphviz(tree, out_file=f,\n",
    "                        feature_names=feature_names)\n",
    "\n",
    "    command = [\"dot\", \"-Tpng\", \"dt.dot\", \"-o\", \"dt.png\"]\n",
    "    try:\n",
    "        subprocess.check_call(command)\n",
    "    except:\n",
    "        exit(\"Could not run dot, ie graphviz, to \"\n",
    "             \"produce visualization\")"
   ]
  },
  {
   "cell_type": "code",
   "execution_count": 46,
   "metadata": {
    "collapsed": false
   },
   "outputs": [],
   "source": [
    "#visualize_tree(model, features)"
   ]
  },
  {
   "cell_type": "code",
   "execution_count": 45,
   "metadata": {
    "collapsed": false
   },
   "outputs": [
    {
     "data": {
      "image/svg+xml": [
       "<?xml version=\"1.0\" encoding=\"UTF-8\" standalone=\"no\"?>\n",
       "<!DOCTYPE svg PUBLIC \"-//W3C//DTD SVG 1.1//EN\"\n",
       " \"http://www.w3.org/Graphics/SVG/1.1/DTD/svg11.dtd\">\n",
       "<!-- Generated by graphviz version 2.38.0 (20140413.2041)\n",
       " -->\n",
       "<!-- Title: Tree Pages: 1 -->\n",
       "<svg width=\"1696pt\" height=\"458pt\"\n",
       " viewBox=\"0.00 0.00 1695.71 458.00\" xmlns=\"http://www.w3.org/2000/svg\" xmlns:xlink=\"http://www.w3.org/1999/xlink\">\n",
       "<g id=\"graph0\" class=\"graph\" transform=\"scale(1 1) rotate(0) translate(4 454)\">\n",
       "<title>Tree</title>\n",
       "<polygon fill=\"white\" stroke=\"none\" points=\"-4,4 -4,-454 1691.71,-454 1691.71,4 -4,4\"/>\n",
       "<!-- 0 -->\n",
       "<g id=\"node1\" class=\"node\"><title>0</title>\n",
       "<polygon fill=\"none\" stroke=\"black\" points=\"759.57,-450 653.143,-450 653.143,-386 759.57,-386 759.57,-450\"/>\n",
       "<text text-anchor=\"middle\" x=\"706.356\" y=\"-434.8\" font-family=\"Times,serif\" font-size=\"14.00\">LSTAT &lt;= 9.63</text>\n",
       "<text text-anchor=\"middle\" x=\"706.356\" y=\"-420.8\" font-family=\"Times,serif\" font-size=\"14.00\">mse = 85.4373</text>\n",
       "<text text-anchor=\"middle\" x=\"706.356\" y=\"-406.8\" font-family=\"Times,serif\" font-size=\"14.00\">samples = 303</text>\n",
       "<text text-anchor=\"middle\" x=\"706.356\" y=\"-392.8\" font-family=\"Times,serif\" font-size=\"14.00\">value = 22.7465</text>\n",
       "</g>\n",
       "<!-- 1 -->\n",
       "<g id=\"node2\" class=\"node\"><title>1</title>\n",
       "<polygon fill=\"none\" stroke=\"black\" points=\"527.57,-350 421.143,-350 421.143,-286 527.57,-286 527.57,-350\"/>\n",
       "<text text-anchor=\"middle\" x=\"474.356\" y=\"-334.8\" font-family=\"Times,serif\" font-size=\"14.00\">RM &lt;= 7.0115</text>\n",
       "<text text-anchor=\"middle\" x=\"474.356\" y=\"-320.8\" font-family=\"Times,serif\" font-size=\"14.00\">mse = 76.5635</text>\n",
       "<text text-anchor=\"middle\" x=\"474.356\" y=\"-306.8\" font-family=\"Times,serif\" font-size=\"14.00\">samples = 126</text>\n",
       "<text text-anchor=\"middle\" x=\"474.356\" y=\"-292.8\" font-family=\"Times,serif\" font-size=\"14.00\">value = 30.2738</text>\n",
       "</g>\n",
       "<!-- 0&#45;&gt;1 -->\n",
       "<g id=\"edge1\" class=\"edge\"><title>0&#45;&gt;1</title>\n",
       "<path fill=\"none\" stroke=\"black\" d=\"M653.131,-394.517C618.623,-379.94 573.509,-360.883 537.234,-345.561\"/>\n",
       "<polygon fill=\"black\" stroke=\"black\" points=\"538.309,-342.215 527.735,-341.548 535.585,-348.663 538.309,-342.215\"/>\n",
       "<text text-anchor=\"middle\" x=\"537.141\" y=\"-360.511\" font-family=\"Times,serif\" font-size=\"14.00\">True</text>\n",
       "</g>\n",
       "<!-- 14 -->\n",
       "<g id=\"node15\" class=\"node\"><title>14</title>\n",
       "<polygon fill=\"none\" stroke=\"black\" points=\"1002.57,-350 896.143,-350 896.143,-286 1002.57,-286 1002.57,-350\"/>\n",
       "<text text-anchor=\"middle\" x=\"949.356\" y=\"-334.8\" font-family=\"Times,serif\" font-size=\"14.00\">LSTAT &lt;= 15.0</text>\n",
       "<text text-anchor=\"middle\" x=\"949.356\" y=\"-320.8\" font-family=\"Times,serif\" font-size=\"14.00\">mse = 22.7076</text>\n",
       "<text text-anchor=\"middle\" x=\"949.356\" y=\"-306.8\" font-family=\"Times,serif\" font-size=\"14.00\">samples = 177</text>\n",
       "<text text-anchor=\"middle\" x=\"949.356\" y=\"-292.8\" font-family=\"Times,serif\" font-size=\"14.00\">value = 17.3881</text>\n",
       "</g>\n",
       "<!-- 0&#45;&gt;14 -->\n",
       "<g id=\"edge14\" class=\"edge\"><title>0&#45;&gt;14</title>\n",
       "<path fill=\"none\" stroke=\"black\" d=\"M759.684,-395.493C796.905,-380.482 846.748,-360.381 885.998,-344.552\"/>\n",
       "<polygon fill=\"black\" stroke=\"black\" points=\"887.769,-347.612 895.734,-340.625 885.151,-341.12 887.769,-347.612\"/>\n",
       "<text text-anchor=\"middle\" x=\"885.951\" y=\"-359.432\" font-family=\"Times,serif\" font-size=\"14.00\">False</text>\n",
       "</g>\n",
       "<!-- 2 -->\n",
       "<g id=\"node3\" class=\"node\"><title>2</title>\n",
       "<polygon fill=\"none\" stroke=\"black\" points=\"231.57,-250 125.143,-250 125.143,-186 231.57,-186 231.57,-250\"/>\n",
       "<text text-anchor=\"middle\" x=\"178.356\" y=\"-234.8\" font-family=\"Times,serif\" font-size=\"14.00\">DIS &lt;= 1.4849</text>\n",
       "<text text-anchor=\"middle\" x=\"178.356\" y=\"-220.8\" font-family=\"Times,serif\" font-size=\"14.00\">mse = 30.114</text>\n",
       "<text text-anchor=\"middle\" x=\"178.356\" y=\"-206.8\" font-family=\"Times,serif\" font-size=\"14.00\">samples = 88</text>\n",
       "<text text-anchor=\"middle\" x=\"178.356\" y=\"-192.8\" font-family=\"Times,serif\" font-size=\"14.00\">value = 26.2409</text>\n",
       "</g>\n",
       "<!-- 1&#45;&gt;2 -->\n",
       "<g id=\"edge2\" class=\"edge\"><title>1&#45;&gt;2</title>\n",
       "<path fill=\"none\" stroke=\"black\" d=\"M421.096,-299.366C370.641,-282.662 294.842,-257.566 241.396,-239.871\"/>\n",
       "<polygon fill=\"black\" stroke=\"black\" points=\"242.281,-236.478 231.688,-236.657 240.081,-243.123 242.281,-236.478\"/>\n",
       "</g>\n",
       "<!-- 7 -->\n",
       "<g id=\"node8\" class=\"node\"><title>7</title>\n",
       "<polygon fill=\"none\" stroke=\"black\" points=\"527.57,-250 421.143,-250 421.143,-186 527.57,-186 527.57,-250\"/>\n",
       "<text text-anchor=\"middle\" x=\"474.356\" y=\"-234.8\" font-family=\"Times,serif\" font-size=\"14.00\">RM &lt;= 7.435</text>\n",
       "<text text-anchor=\"middle\" x=\"474.356\" y=\"-220.8\" font-family=\"Times,serif\" font-size=\"14.00\">mse = 59.2427</text>\n",
       "<text text-anchor=\"middle\" x=\"474.356\" y=\"-206.8\" font-family=\"Times,serif\" font-size=\"14.00\">samples = 38</text>\n",
       "<text text-anchor=\"middle\" x=\"474.356\" y=\"-192.8\" font-family=\"Times,serif\" font-size=\"14.00\">value = 39.6132</text>\n",
       "</g>\n",
       "<!-- 1&#45;&gt;7 -->\n",
       "<g id=\"edge7\" class=\"edge\"><title>1&#45;&gt;7</title>\n",
       "<path fill=\"none\" stroke=\"black\" d=\"M474.356,-285.992C474.356,-277.859 474.356,-268.959 474.356,-260.378\"/>\n",
       "<polygon fill=\"black\" stroke=\"black\" points=\"477.857,-260.142 474.356,-250.142 470.857,-260.142 477.857,-260.142\"/>\n",
       "</g>\n",
       "<!-- 3 -->\n",
       "<g id=\"node4\" class=\"node\"><title>3</title>\n",
       "<polygon fill=\"none\" stroke=\"black\" points=\"107.07,-143 21.6431,-143 21.6431,-93 107.07,-93 107.07,-143\"/>\n",
       "<text text-anchor=\"middle\" x=\"64.3564\" y=\"-127.8\" font-family=\"Times,serif\" font-size=\"14.00\">mse = 0.0</text>\n",
       "<text text-anchor=\"middle\" x=\"64.3564\" y=\"-113.8\" font-family=\"Times,serif\" font-size=\"14.00\">samples = 2</text>\n",
       "<text text-anchor=\"middle\" x=\"64.3564\" y=\"-99.8\" font-family=\"Times,serif\" font-size=\"14.00\">value = 50.0</text>\n",
       "</g>\n",
       "<!-- 2&#45;&gt;3 -->\n",
       "<g id=\"edge3\" class=\"edge\"><title>2&#45;&gt;3</title>\n",
       "<path fill=\"none\" stroke=\"black\" d=\"M142.286,-185.992C128.872,-174.461 113.662,-161.385 100.262,-149.866\"/>\n",
       "<polygon fill=\"black\" stroke=\"black\" points=\"102.474,-147.152 92.6094,-143.288 97.911,-152.461 102.474,-147.152\"/>\n",
       "</g>\n",
       "<!-- 4 -->\n",
       "<g id=\"node5\" class=\"node\"><title>4</title>\n",
       "<polygon fill=\"none\" stroke=\"black\" points=\"231.57,-150 125.143,-150 125.143,-86 231.57,-86 231.57,-150\"/>\n",
       "<text text-anchor=\"middle\" x=\"178.356\" y=\"-134.8\" font-family=\"Times,serif\" font-size=\"14.00\">RM &lt;= 6.587</text>\n",
       "<text text-anchor=\"middle\" x=\"178.356\" y=\"-120.8\" font-family=\"Times,serif\" font-size=\"14.00\">mse = 17.3813</text>\n",
       "<text text-anchor=\"middle\" x=\"178.356\" y=\"-106.8\" font-family=\"Times,serif\" font-size=\"14.00\">samples = 86</text>\n",
       "<text text-anchor=\"middle\" x=\"178.356\" y=\"-92.8\" font-family=\"Times,serif\" font-size=\"14.00\">value = 25.6884</text>\n",
       "</g>\n",
       "<!-- 2&#45;&gt;4 -->\n",
       "<g id=\"edge4\" class=\"edge\"><title>2&#45;&gt;4</title>\n",
       "<path fill=\"none\" stroke=\"black\" d=\"M178.356,-185.992C178.356,-177.859 178.356,-168.959 178.356,-160.378\"/>\n",
       "<polygon fill=\"black\" stroke=\"black\" points=\"181.857,-160.142 178.356,-150.142 174.857,-160.142 181.857,-160.142\"/>\n",
       "</g>\n",
       "<!-- 5 -->\n",
       "<g id=\"node6\" class=\"node\"><title>5</title>\n",
       "<polygon fill=\"none\" stroke=\"black\" points=\"106.57,-50 0.143169,-50 0.143169,-0 106.57,-0 106.57,-50\"/>\n",
       "<text text-anchor=\"middle\" x=\"53.3564\" y=\"-34.8\" font-family=\"Times,serif\" font-size=\"14.00\">mse = 8.0471</text>\n",
       "<text text-anchor=\"middle\" x=\"53.3564\" y=\"-20.8\" font-family=\"Times,serif\" font-size=\"14.00\">samples = 53</text>\n",
       "<text text-anchor=\"middle\" x=\"53.3564\" y=\"-6.8\" font-family=\"Times,serif\" font-size=\"14.00\">value = 23.4755</text>\n",
       "</g>\n",
       "<!-- 4&#45;&gt;5 -->\n",
       "<g id=\"edge5\" class=\"edge\"><title>4&#45;&gt;5</title>\n",
       "<path fill=\"none\" stroke=\"black\" d=\"M135.688,-85.9375C122.46,-76.3076 107.91,-65.7151 94.7689,-56.1483\"/>\n",
       "<polygon fill=\"black\" stroke=\"black\" points=\"96.5093,-53.0861 86.3648,-50.0301 92.3894,-58.7453 96.5093,-53.0861\"/>\n",
       "</g>\n",
       "<!-- 6 -->\n",
       "<g id=\"node7\" class=\"node\"><title>6</title>\n",
       "<polygon fill=\"none\" stroke=\"black\" points=\"231.57,-50 125.143,-50 125.143,-0 231.57,-0 231.57,-50\"/>\n",
       "<text text-anchor=\"middle\" x=\"178.356\" y=\"-34.8\" font-family=\"Times,serif\" font-size=\"14.00\">mse = 11.8764</text>\n",
       "<text text-anchor=\"middle\" x=\"178.356\" y=\"-20.8\" font-family=\"Times,serif\" font-size=\"14.00\">samples = 33</text>\n",
       "<text text-anchor=\"middle\" x=\"178.356\" y=\"-6.8\" font-family=\"Times,serif\" font-size=\"14.00\">value = 29.2424</text>\n",
       "</g>\n",
       "<!-- 4&#45;&gt;6 -->\n",
       "<g id=\"edge6\" class=\"edge\"><title>4&#45;&gt;6</title>\n",
       "<path fill=\"none\" stroke=\"black\" d=\"M178.356,-85.9375C178.356,-77.6833 178.356,-68.7219 178.356,-60.3053\"/>\n",
       "<polygon fill=\"black\" stroke=\"black\" points=\"181.857,-60.03 178.356,-50.0301 174.857,-60.0301 181.857,-60.03\"/>\n",
       "</g>\n",
       "<!-- 8 -->\n",
       "<g id=\"node9\" class=\"node\"><title>8</title>\n",
       "<polygon fill=\"none\" stroke=\"black\" points=\"461.57,-150 355.143,-150 355.143,-86 461.57,-86 461.57,-150\"/>\n",
       "<text text-anchor=\"middle\" x=\"408.356\" y=\"-134.8\" font-family=\"Times,serif\" font-size=\"14.00\">CRIM &lt;= 6.135</text>\n",
       "<text text-anchor=\"middle\" x=\"408.356\" y=\"-120.8\" font-family=\"Times,serif\" font-size=\"14.00\">mse = 21.4508</text>\n",
       "<text text-anchor=\"middle\" x=\"408.356\" y=\"-106.8\" font-family=\"Times,serif\" font-size=\"14.00\">samples = 19</text>\n",
       "<text text-anchor=\"middle\" x=\"408.356\" y=\"-92.8\" font-family=\"Times,serif\" font-size=\"14.00\">value = 34.7158</text>\n",
       "</g>\n",
       "<!-- 7&#45;&gt;8 -->\n",
       "<g id=\"edge8\" class=\"edge\"><title>7&#45;&gt;8</title>\n",
       "<path fill=\"none\" stroke=\"black\" d=\"M453.474,-185.992C447.635,-177.323 441.209,-167.782 435.083,-158.685\"/>\n",
       "<polygon fill=\"black\" stroke=\"black\" points=\"437.819,-156.482 429.33,-150.142 432.013,-160.392 437.819,-156.482\"/>\n",
       "</g>\n",
       "<!-- 11 -->\n",
       "<g id=\"node12\" class=\"node\"><title>11</title>\n",
       "<polygon fill=\"none\" stroke=\"black\" points=\"600.706,-150 480.007,-150 480.007,-86 600.706,-86 600.706,-150\"/>\n",
       "<text text-anchor=\"middle\" x=\"540.356\" y=\"-134.8\" font-family=\"Times,serif\" font-size=\"14.00\">PTRATIO &lt;= 18.3</text>\n",
       "<text text-anchor=\"middle\" x=\"540.356\" y=\"-120.8\" font-family=\"Times,serif\" font-size=\"14.00\">mse = 49.0662</text>\n",
       "<text text-anchor=\"middle\" x=\"540.356\" y=\"-106.8\" font-family=\"Times,serif\" font-size=\"14.00\">samples = 19</text>\n",
       "<text text-anchor=\"middle\" x=\"540.356\" y=\"-92.8\" font-family=\"Times,serif\" font-size=\"14.00\">value = 44.5105</text>\n",
       "</g>\n",
       "<!-- 7&#45;&gt;11 -->\n",
       "<g id=\"edge11\" class=\"edge\"><title>7&#45;&gt;11</title>\n",
       "<path fill=\"none\" stroke=\"black\" d=\"M495.239,-185.992C501.078,-177.323 507.503,-167.782 513.63,-158.685\"/>\n",
       "<polygon fill=\"black\" stroke=\"black\" points=\"516.7,-160.392 519.383,-150.142 510.894,-156.482 516.7,-160.392\"/>\n",
       "</g>\n",
       "<!-- 9 -->\n",
       "<g id=\"node10\" class=\"node\"><title>9</title>\n",
       "<polygon fill=\"none\" stroke=\"black\" points=\"356.57,-50 250.143,-50 250.143,-0 356.57,-0 356.57,-50\"/>\n",
       "<text text-anchor=\"middle\" x=\"303.356\" y=\"-34.8\" font-family=\"Times,serif\" font-size=\"14.00\">mse = 8.9433</text>\n",
       "<text text-anchor=\"middle\" x=\"303.356\" y=\"-20.8\" font-family=\"Times,serif\" font-size=\"14.00\">samples = 18</text>\n",
       "<text text-anchor=\"middle\" x=\"303.356\" y=\"-6.8\" font-family=\"Times,serif\" font-size=\"14.00\">value = 33.8667</text>\n",
       "</g>\n",
       "<!-- 8&#45;&gt;9 -->\n",
       "<g id=\"edge9\" class=\"edge\"><title>8&#45;&gt;9</title>\n",
       "<path fill=\"none\" stroke=\"black\" d=\"M372.515,-85.9375C361.615,-76.491 349.647,-66.1182 338.775,-56.6961\"/>\n",
       "<polygon fill=\"black\" stroke=\"black\" points=\"340.933,-53.9345 331.083,-50.0301 336.348,-59.2243 340.933,-53.9345\"/>\n",
       "</g>\n",
       "<!-- 10 -->\n",
       "<g id=\"node11\" class=\"node\"><title>10</title>\n",
       "<polygon fill=\"none\" stroke=\"black\" points=\"460.07,-50 374.643,-50 374.643,-0 460.07,-0 460.07,-50\"/>\n",
       "<text text-anchor=\"middle\" x=\"417.356\" y=\"-34.8\" font-family=\"Times,serif\" font-size=\"14.00\">mse = 0.0</text>\n",
       "<text text-anchor=\"middle\" x=\"417.356\" y=\"-20.8\" font-family=\"Times,serif\" font-size=\"14.00\">samples = 1</text>\n",
       "<text text-anchor=\"middle\" x=\"417.356\" y=\"-6.8\" font-family=\"Times,serif\" font-size=\"14.00\">value = 50.0</text>\n",
       "</g>\n",
       "<!-- 8&#45;&gt;10 -->\n",
       "<g id=\"edge10\" class=\"edge\"><title>8&#45;&gt;10</title>\n",
       "<path fill=\"none\" stroke=\"black\" d=\"M411.429,-85.9375C412.254,-77.5916 413.151,-68.5226 413.991,-60.025\"/>\n",
       "<polygon fill=\"black\" stroke=\"black\" points=\"417.479,-60.326 414.98,-50.0301 410.513,-59.637 417.479,-60.326\"/>\n",
       "</g>\n",
       "<!-- 12 -->\n",
       "<g id=\"node13\" class=\"node\"><title>12</title>\n",
       "<polygon fill=\"none\" stroke=\"black\" points=\"584.57,-50 478.143,-50 478.143,-0 584.57,-0 584.57,-50\"/>\n",
       "<text text-anchor=\"middle\" x=\"531.356\" y=\"-34.8\" font-family=\"Times,serif\" font-size=\"14.00\">mse = 16.141</text>\n",
       "<text text-anchor=\"middle\" x=\"531.356\" y=\"-20.8\" font-family=\"Times,serif\" font-size=\"14.00\">samples = 17</text>\n",
       "<text text-anchor=\"middle\" x=\"531.356\" y=\"-6.8\" font-family=\"Times,serif\" font-size=\"14.00\">value = 46.3882</text>\n",
       "</g>\n",
       "<!-- 11&#45;&gt;12 -->\n",
       "<g id=\"edge12\" class=\"edge\"><title>11&#45;&gt;12</title>\n",
       "<path fill=\"none\" stroke=\"black\" d=\"M537.284,-85.9375C536.459,-77.5916 535.562,-68.5226 534.722,-60.025\"/>\n",
       "<polygon fill=\"black\" stroke=\"black\" points=\"538.2,-59.637 533.733,-50.0301 531.234,-60.326 538.2,-59.637\"/>\n",
       "</g>\n",
       "<!-- 13 -->\n",
       "<g id=\"node14\" class=\"node\"><title>13</title>\n",
       "<polygon fill=\"none\" stroke=\"black\" points=\"701.804,-50 602.909,-50 602.909,-0 701.804,-0 701.804,-50\"/>\n",
       "<text text-anchor=\"middle\" x=\"652.356\" y=\"-34.8\" font-family=\"Times,serif\" font-size=\"14.00\">mse = 44.2225</text>\n",
       "<text text-anchor=\"middle\" x=\"652.356\" y=\"-20.8\" font-family=\"Times,serif\" font-size=\"14.00\">samples = 2</text>\n",
       "<text text-anchor=\"middle\" x=\"652.356\" y=\"-6.8\" font-family=\"Times,serif\" font-size=\"14.00\">value = 28.55</text>\n",
       "</g>\n",
       "<!-- 11&#45;&gt;13 -->\n",
       "<g id=\"edge13\" class=\"edge\"><title>11&#45;&gt;13</title>\n",
       "<path fill=\"none\" stroke=\"black\" d=\"M578.587,-85.9375C590.327,-76.3993 603.228,-65.9167 614.914,-56.4219\"/>\n",
       "<polygon fill=\"black\" stroke=\"black\" points=\"617.227,-59.0524 622.781,-50.0301 612.813,-53.6196 617.227,-59.0524\"/>\n",
       "</g>\n",
       "<!-- 15 -->\n",
       "<g id=\"node16\" class=\"node\"><title>15</title>\n",
       "<polygon fill=\"none\" stroke=\"black\" points=\"1009.71,-250 889.007,-250 889.007,-186 1009.71,-186 1009.71,-250\"/>\n",
       "<text text-anchor=\"middle\" x=\"949.356\" y=\"-234.8\" font-family=\"Times,serif\" font-size=\"14.00\">PTRATIO &lt;= 18.0</text>\n",
       "<text text-anchor=\"middle\" x=\"949.356\" y=\"-220.8\" font-family=\"Times,serif\" font-size=\"14.00\">mse = 8.7734</text>\n",
       "<text text-anchor=\"middle\" x=\"949.356\" y=\"-206.8\" font-family=\"Times,serif\" font-size=\"14.00\">samples = 79</text>\n",
       "<text text-anchor=\"middle\" x=\"949.356\" y=\"-192.8\" font-family=\"Times,serif\" font-size=\"14.00\">value = 20.9076</text>\n",
       "</g>\n",
       "<!-- 14&#45;&gt;15 -->\n",
       "<g id=\"edge15\" class=\"edge\"><title>14&#45;&gt;15</title>\n",
       "<path fill=\"none\" stroke=\"black\" d=\"M949.356,-285.992C949.356,-277.859 949.356,-268.959 949.356,-260.378\"/>\n",
       "<polygon fill=\"black\" stroke=\"black\" points=\"952.857,-260.142 949.356,-250.142 945.857,-260.142 952.857,-260.142\"/>\n",
       "</g>\n",
       "<!-- 22 -->\n",
       "<g id=\"node23\" class=\"node\"><title>22</title>\n",
       "<polygon fill=\"none\" stroke=\"black\" points=\"1375.93,-250 1262.78,-250 1262.78,-186 1375.93,-186 1375.93,-250\"/>\n",
       "<text text-anchor=\"middle\" x=\"1319.36\" y=\"-234.8\" font-family=\"Times,serif\" font-size=\"14.00\">CRIM &lt;= 5.7692</text>\n",
       "<text text-anchor=\"middle\" x=\"1319.36\" y=\"-220.8\" font-family=\"Times,serif\" font-size=\"14.00\">mse = 15.906</text>\n",
       "<text text-anchor=\"middle\" x=\"1319.36\" y=\"-206.8\" font-family=\"Times,serif\" font-size=\"14.00\">samples = 98</text>\n",
       "<text text-anchor=\"middle\" x=\"1319.36\" y=\"-192.8\" font-family=\"Times,serif\" font-size=\"14.00\">value = 14.551</text>\n",
       "</g>\n",
       "<!-- 14&#45;&gt;22 -->\n",
       "<g id=\"edge22\" class=\"edge\"><title>14&#45;&gt;22</title>\n",
       "<path fill=\"none\" stroke=\"black\" d=\"M1002.76,-302.855C1068.8,-285.364 1181.22,-255.588 1252.81,-236.627\"/>\n",
       "<polygon fill=\"black\" stroke=\"black\" points=\"1253.86,-239.97 1262.63,-234.026 1252.06,-233.203 1253.86,-239.97\"/>\n",
       "</g>\n",
       "<!-- 16 -->\n",
       "<g id=\"node17\" class=\"node\"><title>16</title>\n",
       "<polygon fill=\"none\" stroke=\"black\" points=\"938.804,-150 839.909,-150 839.909,-86 938.804,-86 938.804,-150\"/>\n",
       "<text text-anchor=\"middle\" x=\"889.356\" y=\"-134.8\" font-family=\"Times,serif\" font-size=\"14.00\">TAX &lt;= 309.0</text>\n",
       "<text text-anchor=\"middle\" x=\"889.356\" y=\"-120.8\" font-family=\"Times,serif\" font-size=\"14.00\">mse = 12.4654</text>\n",
       "<text text-anchor=\"middle\" x=\"889.356\" y=\"-106.8\" font-family=\"Times,serif\" font-size=\"14.00\">samples = 28</text>\n",
       "<text text-anchor=\"middle\" x=\"889.356\" y=\"-92.8\" font-family=\"Times,serif\" font-size=\"14.00\">value = 22.55</text>\n",
       "</g>\n",
       "<!-- 15&#45;&gt;16 -->\n",
       "<g id=\"edge16\" class=\"edge\"><title>15&#45;&gt;16</title>\n",
       "<path fill=\"none\" stroke=\"black\" d=\"M930.372,-185.992C925.065,-177.323 919.223,-167.782 913.653,-158.685\"/>\n",
       "<polygon fill=\"black\" stroke=\"black\" points=\"916.63,-156.843 908.423,-150.142 910.66,-160.499 916.63,-156.843\"/>\n",
       "</g>\n",
       "<!-- 19 -->\n",
       "<g id=\"node20\" class=\"node\"><title>19</title>\n",
       "<polygon fill=\"none\" stroke=\"black\" points=\"1063.57,-150 957.143,-150 957.143,-86 1063.57,-86 1063.57,-150\"/>\n",
       "<text text-anchor=\"middle\" x=\"1010.36\" y=\"-134.8\" font-family=\"Times,serif\" font-size=\"14.00\">AGE &lt;= 97.8</text>\n",
       "<text text-anchor=\"middle\" x=\"1010.36\" y=\"-120.8\" font-family=\"Times,serif\" font-size=\"14.00\">mse = 4.4523</text>\n",
       "<text text-anchor=\"middle\" x=\"1010.36\" y=\"-106.8\" font-family=\"Times,serif\" font-size=\"14.00\">samples = 51</text>\n",
       "<text text-anchor=\"middle\" x=\"1010.36\" y=\"-92.8\" font-family=\"Times,serif\" font-size=\"14.00\">value = 20.0059</text>\n",
       "</g>\n",
       "<!-- 15&#45;&gt;19 -->\n",
       "<g id=\"edge19\" class=\"edge\"><title>15&#45;&gt;19</title>\n",
       "<path fill=\"none\" stroke=\"black\" d=\"M968.657,-185.992C974.053,-177.323 979.992,-167.782 985.655,-158.685\"/>\n",
       "<polygon fill=\"black\" stroke=\"black\" points=\"988.659,-160.482 990.972,-150.142 982.716,-156.783 988.659,-160.482\"/>\n",
       "</g>\n",
       "<!-- 17 -->\n",
       "<g id=\"node18\" class=\"node\"><title>17</title>\n",
       "<polygon fill=\"none\" stroke=\"black\" points=\"826.57,-50 720.143,-50 720.143,-0 826.57,-0 826.57,-50\"/>\n",
       "<text text-anchor=\"middle\" x=\"773.356\" y=\"-34.8\" font-family=\"Times,serif\" font-size=\"14.00\">mse = 10.9052</text>\n",
       "<text text-anchor=\"middle\" x=\"773.356\" y=\"-20.8\" font-family=\"Times,serif\" font-size=\"14.00\">samples = 13</text>\n",
       "<text text-anchor=\"middle\" x=\"773.356\" y=\"-6.8\" font-family=\"Times,serif\" font-size=\"14.00\">value = 24.7308</text>\n",
       "</g>\n",
       "<!-- 16&#45;&gt;17 -->\n",
       "<g id=\"edge17\" class=\"edge\"><title>16&#45;&gt;17</title>\n",
       "<path fill=\"none\" stroke=\"black\" d=\"M849.76,-85.9375C837.602,-76.3993 824.239,-65.9167 812.136,-56.4219\"/>\n",
       "<polygon fill=\"black\" stroke=\"black\" points=\"814.016,-53.4486 803.988,-50.0301 809.696,-58.9561 814.016,-53.4486\"/>\n",
       "</g>\n",
       "<!-- 18 -->\n",
       "<g id=\"node19\" class=\"node\"><title>18</title>\n",
       "<polygon fill=\"none\" stroke=\"black\" points=\"937.57,-50 845.143,-50 845.143,-0 937.57,-0 937.57,-50\"/>\n",
       "<text text-anchor=\"middle\" x=\"891.356\" y=\"-34.8\" font-family=\"Times,serif\" font-size=\"14.00\">mse = 6.1237</text>\n",
       "<text text-anchor=\"middle\" x=\"891.356\" y=\"-20.8\" font-family=\"Times,serif\" font-size=\"14.00\">samples = 15</text>\n",
       "<text text-anchor=\"middle\" x=\"891.356\" y=\"-6.8\" font-family=\"Times,serif\" font-size=\"14.00\">value = 20.66</text>\n",
       "</g>\n",
       "<!-- 16&#45;&gt;18 -->\n",
       "<g id=\"edge18\" class=\"edge\"><title>16&#45;&gt;18</title>\n",
       "<path fill=\"none\" stroke=\"black\" d=\"M890.039,-85.9375C890.221,-77.6833 890.418,-68.7219 890.602,-60.3053\"/>\n",
       "<polygon fill=\"black\" stroke=\"black\" points=\"894.108,-60.1046 890.828,-50.0301 887.109,-59.9507 894.108,-60.1046\"/>\n",
       "</g>\n",
       "<!-- 20 -->\n",
       "<g id=\"node21\" class=\"node\"><title>20</title>\n",
       "<polygon fill=\"none\" stroke=\"black\" points=\"1062.57,-50 956.143,-50 956.143,-0 1062.57,-0 1062.57,-50\"/>\n",
       "<text text-anchor=\"middle\" x=\"1009.36\" y=\"-34.8\" font-family=\"Times,serif\" font-size=\"14.00\">mse = 3.5078</text>\n",
       "<text text-anchor=\"middle\" x=\"1009.36\" y=\"-20.8\" font-family=\"Times,serif\" font-size=\"14.00\">samples = 48</text>\n",
       "<text text-anchor=\"middle\" x=\"1009.36\" y=\"-6.8\" font-family=\"Times,serif\" font-size=\"14.00\">value = 20.2417</text>\n",
       "</g>\n",
       "<!-- 19&#45;&gt;20 -->\n",
       "<g id=\"edge20\" class=\"edge\"><title>19&#45;&gt;20</title>\n",
       "<path fill=\"none\" stroke=\"black\" d=\"M1010.02,-85.9375C1009.92,-77.6833 1009.83,-68.7219 1009.73,-60.3053\"/>\n",
       "<polygon fill=\"black\" stroke=\"black\" points=\"1013.23,-59.991 1009.62,-50.0301 1006.23,-60.068 1013.23,-59.991\"/>\n",
       "</g>\n",
       "<!-- 21 -->\n",
       "<g id=\"node22\" class=\"node\"><title>21</title>\n",
       "<polygon fill=\"none\" stroke=\"black\" points=\"1187.57,-50 1081.14,-50 1081.14,-0 1187.57,-0 1187.57,-50\"/>\n",
       "<text text-anchor=\"middle\" x=\"1134.36\" y=\"-34.8\" font-family=\"Times,serif\" font-size=\"14.00\">mse = 4.4422</text>\n",
       "<text text-anchor=\"middle\" x=\"1134.36\" y=\"-20.8\" font-family=\"Times,serif\" font-size=\"14.00\">samples = 3</text>\n",
       "<text text-anchor=\"middle\" x=\"1134.36\" y=\"-6.8\" font-family=\"Times,serif\" font-size=\"14.00\">value = 16.2333</text>\n",
       "</g>\n",
       "<!-- 19&#45;&gt;21 -->\n",
       "<g id=\"edge21\" class=\"edge\"><title>19&#45;&gt;21</title>\n",
       "<path fill=\"none\" stroke=\"black\" d=\"M1052.68,-85.9375C1065.81,-76.3076 1080.24,-65.7151 1093.28,-56.1483\"/>\n",
       "<polygon fill=\"black\" stroke=\"black\" points=\"1095.62,-58.7683 1101.61,-50.0301 1091.48,-53.1249 1095.62,-58.7683\"/>\n",
       "</g>\n",
       "<!-- 23 -->\n",
       "<g id=\"node24\" class=\"node\"><title>23</title>\n",
       "<polygon fill=\"none\" stroke=\"black\" points=\"1372.57,-150 1266.14,-150 1266.14,-86 1372.57,-86 1372.57,-150\"/>\n",
       "<text text-anchor=\"middle\" x=\"1319.36\" y=\"-134.8\" font-family=\"Times,serif\" font-size=\"14.00\">NOX &lt;= 0.531</text>\n",
       "<text text-anchor=\"middle\" x=\"1319.36\" y=\"-120.8\" font-family=\"Times,serif\" font-size=\"14.00\">mse = 10.8992</text>\n",
       "<text text-anchor=\"middle\" x=\"1319.36\" y=\"-106.8\" font-family=\"Times,serif\" font-size=\"14.00\">samples = 52</text>\n",
       "<text text-anchor=\"middle\" x=\"1319.36\" y=\"-92.8\" font-family=\"Times,serif\" font-size=\"14.00\">value = 16.5923</text>\n",
       "</g>\n",
       "<!-- 22&#45;&gt;23 -->\n",
       "<g id=\"edge23\" class=\"edge\"><title>22&#45;&gt;23</title>\n",
       "<path fill=\"none\" stroke=\"black\" d=\"M1319.36,-185.992C1319.36,-177.859 1319.36,-168.959 1319.36,-160.378\"/>\n",
       "<polygon fill=\"black\" stroke=\"black\" points=\"1322.86,-160.142 1319.36,-150.142 1315.86,-160.142 1322.86,-160.142\"/>\n",
       "</g>\n",
       "<!-- 26 -->\n",
       "<g id=\"node27\" class=\"node\"><title>26</title>\n",
       "<polygon fill=\"none\" stroke=\"black\" points=\"1568.29,-150 1450.43,-150 1450.43,-86 1568.29,-86 1568.29,-150\"/>\n",
       "<text text-anchor=\"middle\" x=\"1509.36\" y=\"-134.8\" font-family=\"Times,serif\" font-size=\"14.00\">LSTAT &lt;= 20.195</text>\n",
       "<text text-anchor=\"middle\" x=\"1509.36\" y=\"-120.8\" font-family=\"Times,serif\" font-size=\"14.00\">mse = 11.5307</text>\n",
       "<text text-anchor=\"middle\" x=\"1509.36\" y=\"-106.8\" font-family=\"Times,serif\" font-size=\"14.00\">samples = 46</text>\n",
       "<text text-anchor=\"middle\" x=\"1509.36\" y=\"-92.8\" font-family=\"Times,serif\" font-size=\"14.00\">value = 12.2435</text>\n",
       "</g>\n",
       "<!-- 22&#45;&gt;26 -->\n",
       "<g id=\"edge26\" class=\"edge\"><title>22&#45;&gt;26</title>\n",
       "<path fill=\"none\" stroke=\"black\" d=\"M1376.11,-187.73C1396.58,-177.168 1419.9,-165.139 1441.25,-154.129\"/>\n",
       "<polygon fill=\"black\" stroke=\"black\" points=\"1442.98,-157.174 1450.26,-149.48 1439.77,-150.953 1442.98,-157.174\"/>\n",
       "</g>\n",
       "<!-- 24 -->\n",
       "<g id=\"node25\" class=\"node\"><title>24</title>\n",
       "<polygon fill=\"none\" stroke=\"black\" points=\"1312.57,-50 1206.14,-50 1206.14,-0 1312.57,-0 1312.57,-50\"/>\n",
       "<text text-anchor=\"middle\" x=\"1259.36\" y=\"-34.8\" font-family=\"Times,serif\" font-size=\"14.00\">mse = 6.6898</text>\n",
       "<text text-anchor=\"middle\" x=\"1259.36\" y=\"-20.8\" font-family=\"Times,serif\" font-size=\"14.00\">samples = 11</text>\n",
       "<text text-anchor=\"middle\" x=\"1259.36\" y=\"-6.8\" font-family=\"Times,serif\" font-size=\"14.00\">value = 19.8545</text>\n",
       "</g>\n",
       "<!-- 23&#45;&gt;24 -->\n",
       "<g id=\"edge24\" class=\"edge\"><title>23&#45;&gt;24</title>\n",
       "<path fill=\"none\" stroke=\"black\" d=\"M1298.88,-85.9375C1293.07,-77.133 1286.73,-67.5239 1280.87,-58.6297\"/>\n",
       "<polygon fill=\"black\" stroke=\"black\" points=\"1283.63,-56.4521 1275.2,-50.0301 1277.78,-60.3053 1283.63,-56.4521\"/>\n",
       "</g>\n",
       "<!-- 25 -->\n",
       "<g id=\"node26\" class=\"node\"><title>25</title>\n",
       "<polygon fill=\"none\" stroke=\"black\" points=\"1437.57,-50 1331.14,-50 1331.14,-0 1437.57,-0 1437.57,-50\"/>\n",
       "<text text-anchor=\"middle\" x=\"1384.36\" y=\"-34.8\" font-family=\"Times,serif\" font-size=\"14.00\">mse = 8.4073</text>\n",
       "<text text-anchor=\"middle\" x=\"1384.36\" y=\"-20.8\" font-family=\"Times,serif\" font-size=\"14.00\">samples = 41</text>\n",
       "<text text-anchor=\"middle\" x=\"1384.36\" y=\"-6.8\" font-family=\"Times,serif\" font-size=\"14.00\">value = 15.7171</text>\n",
       "</g>\n",
       "<!-- 23&#45;&gt;25 -->\n",
       "<g id=\"edge25\" class=\"edge\"><title>23&#45;&gt;25</title>\n",
       "<path fill=\"none\" stroke=\"black\" d=\"M1341.54,-85.9375C1347.9,-77.0413 1354.84,-67.3236 1361.25,-58.352\"/>\n",
       "<polygon fill=\"black\" stroke=\"black\" points=\"1364.23,-60.2018 1367.19,-50.0301 1358.53,-56.1331 1364.23,-60.2018\"/>\n",
       "</g>\n",
       "<!-- 27 -->\n",
       "<g id=\"node28\" class=\"node\"><title>27</title>\n",
       "<polygon fill=\"none\" stroke=\"black\" points=\"1562.57,-50 1456.14,-50 1456.14,-0 1562.57,-0 1562.57,-50\"/>\n",
       "<text text-anchor=\"middle\" x=\"1509.36\" y=\"-34.8\" font-family=\"Times,serif\" font-size=\"14.00\">mse = 6.959</text>\n",
       "<text text-anchor=\"middle\" x=\"1509.36\" y=\"-20.8\" font-family=\"Times,serif\" font-size=\"14.00\">samples = 23</text>\n",
       "<text text-anchor=\"middle\" x=\"1509.36\" y=\"-6.8\" font-family=\"Times,serif\" font-size=\"14.00\">value = 14.0565</text>\n",
       "</g>\n",
       "<!-- 26&#45;&gt;27 -->\n",
       "<g id=\"edge27\" class=\"edge\"><title>26&#45;&gt;27</title>\n",
       "<path fill=\"none\" stroke=\"black\" d=\"M1509.36,-85.9375C1509.36,-77.6833 1509.36,-68.7219 1509.36,-60.3053\"/>\n",
       "<polygon fill=\"black\" stroke=\"black\" points=\"1512.86,-60.03 1509.36,-50.0301 1505.86,-60.0301 1512.86,-60.03\"/>\n",
       "</g>\n",
       "<!-- 28 -->\n",
       "<g id=\"node29\" class=\"node\"><title>28</title>\n",
       "<polygon fill=\"none\" stroke=\"black\" points=\"1687.57,-50 1581.14,-50 1581.14,-0 1687.57,-0 1687.57,-50\"/>\n",
       "<text text-anchor=\"middle\" x=\"1634.36\" y=\"-34.8\" font-family=\"Times,serif\" font-size=\"14.00\">mse = 9.5282</text>\n",
       "<text text-anchor=\"middle\" x=\"1634.36\" y=\"-20.8\" font-family=\"Times,serif\" font-size=\"14.00\">samples = 23</text>\n",
       "<text text-anchor=\"middle\" x=\"1634.36\" y=\"-6.8\" font-family=\"Times,serif\" font-size=\"14.00\">value = 10.4304</text>\n",
       "</g>\n",
       "<!-- 26&#45;&gt;28 -->\n",
       "<g id=\"edge28\" class=\"edge\"><title>26&#45;&gt;28</title>\n",
       "<path fill=\"none\" stroke=\"black\" d=\"M1552.02,-85.9375C1565.25,-76.3076 1579.8,-65.7151 1592.94,-56.1483\"/>\n",
       "<polygon fill=\"black\" stroke=\"black\" points=\"1595.32,-58.7453 1601.35,-50.0301 1591.2,-53.0861 1595.32,-58.7453\"/>\n",
       "</g>\n",
       "</g>\n",
       "</svg>\n"
      ]
     },
     "metadata": {},
     "output_type": "display_data"
    }
   ],
   "source": [
    "dot_data = externals.six.StringIO()\n",
    "tree.export_graphviz(model, out_file = dot_data, feature_names = X.columns)\n",
    "%dotstr dot_data.getvalue()"
   ]
  },
  {
   "cell_type": "markdown",
   "metadata": {},
   "source": [
    "> Cool, no?"
   ]
  },
  {
   "cell_type": "markdown",
   "metadata": {},
   "source": [
    "> ### Question 7.  What are the top 3 most important features?"
   ]
  },
  {
   "cell_type": "code",
   "execution_count": 18,
   "metadata": {
    "collapsed": false
   },
   "outputs": [
    {
     "data": {
      "text/plain": [
       "[(0.60601552376139978, 'LSTAT'),\n",
       " (0.27144690890370021, 'RM'),\n",
       " (0.049512378738860802, 'DIS'),\n",
       " (0.030352605575489709, 'CRIM'),\n",
       " (0.029418809372699209, 'PTRATIO'),\n",
       " (0.0063633136452027617, 'NOX'),\n",
       " (0.0049461750578529539, 'TAX'),\n",
       " (0.001944284944794586, 'AGE'),\n",
       " (0.0, 'ZN'),\n",
       " (0.0, 'RAD'),\n",
       " (0.0, 'INDUS'),\n",
       " (0.0, 'CHAS'),\n",
       " (0.0, 'BLACK')]"
      ]
     },
     "execution_count": 18,
     "metadata": {},
     "output_type": "execute_result"
    }
   ],
   "source": [
    "sorted(zip(model.feature_importances_, X.columns.values), reverse = True)"
   ]
  },
  {
   "cell_type": "markdown",
   "metadata": {},
   "source": [
    "Answer: `LSTAT`, `RM`, and `DIS`"
   ]
  },
  {
   "cell_type": "markdown",
   "metadata": {},
   "source": [
    "## Part B - Classification Decision Trees"
   ]
  },
  {
   "cell_type": "markdown",
   "metadata": {},
   "source": [
    "> ### Question 8.  Let's categorize `MEDV` to 4 groups: Bottom 20% as Level 1, next 30% as Level 2, next 30% categorized as Level 3, and the top 20% as Level 4.  Please create a new variable `MEDV_Category` that stores the level number"
   ]
  },
  {
   "cell_type": "code",
   "execution_count": 47,
   "metadata": {
    "collapsed": true
   },
   "outputs": [],
   "source": [
    "level_2 = ((df.MEDV > df.MEDV.quantile(.2)) & (df.MEDV <= df.MEDV.quantile(.5)))\n",
    "level_3 = ((df.MEDV > df.MEDV.quantile(.5)) & (df.MEDV <= df.MEDV.quantile(.8)))\n",
    "level_4 = (df.MEDV > df.MEDV.quantile(.8))\n",
    "\n",
    "df['MEDV_Category'] = '1'\n",
    "df.loc[level_2, 'MEDV_Category'] = '2'\n",
    "df.loc[level_3, 'MEDV_Category'] = '3'\n",
    "df.loc[level_4, 'MEDV_Category'] = '4'"
   ]
  },
  {
   "cell_type": "markdown",
   "metadata": {},
   "source": [
    "> ### Question 9.  Create a feature matrix `X` with all features but `MEDV`.  Also create a response vector `y` with `MEDV_Category`"
   ]
  },
  {
   "cell_type": "code",
   "execution_count": 48,
   "metadata": {
    "collapsed": false
   },
   "outputs": [],
   "source": [
    "X = df[df.columns.values]\n",
    "X.drop(['MEDV', 'MEDV_Category'], axis = 1, inplace = True)\n",
    "\n",
    "y = df.MEDV_Category"
   ]
  },
  {
   "cell_type": "markdown",
   "metadata": {},
   "source": [
    "> ### Question 10.  Split again your dataset into a training and testing sets (60%, 40%)"
   ]
  },
  {
   "cell_type": "code",
   "execution_count": 49,
   "metadata": {
    "collapsed": true
   },
   "outputs": [],
   "source": [
    "train_X, test_X, train_y, test_y = cross_validation.train_test_split(X, y, train_size = 0.6, random_state = 0)"
   ]
  },
  {
   "cell_type": "markdown",
   "metadata": {},
   "source": [
    "> ### Question 11.  Create a decision tree (`tree.DecisionTreeRegressor`) of depth 2 and with leaf nodes having a minimum of 5 observations.  Then train the model model"
   ]
  },
  {
   "cell_type": "code",
   "execution_count": 50,
   "metadata": {
    "collapsed": false
   },
   "outputs": [],
   "source": [
    "model = tree.DecisionTreeClassifier(max_depth = 2,\n",
    "    min_samples_leaf = 5,\n",
    "    random_state = 0).\\\n",
    "        fit(train_X, train_y)"
   ]
  },
  {
   "cell_type": "markdown",
   "metadata": {},
   "source": [
    "> ### Question 12.  What is your 10-fold cross-validation error on your training set?"
   ]
  },
  {
   "cell_type": "code",
   "execution_count": 51,
   "metadata": {
    "collapsed": false
   },
   "outputs": [
    {
     "data": {
      "text/plain": [
       "0.56437692012288787"
      ]
     },
     "execution_count": 51,
     "metadata": {},
     "output_type": "execute_result"
    }
   ],
   "source": [
    "cross_validation.cross_val_score(model, train_X, train_y, cv = 10).mean()"
   ]
  },
  {
   "cell_type": "markdown",
   "metadata": {},
   "source": [
    "Answer: ~.56"
   ]
  },
  {
   "cell_type": "markdown",
   "metadata": {},
   "source": [
    "> ### Question 13.  Display graphically your model"
   ]
  },
  {
   "cell_type": "code",
   "execution_count": 52,
   "metadata": {
    "collapsed": false
   },
   "outputs": [
    {
     "data": {
      "image/svg+xml": [
       "<?xml version=\"1.0\" encoding=\"UTF-8\" standalone=\"no\"?>\n",
       "<!DOCTYPE svg PUBLIC \"-//W3C//DTD SVG 1.1//EN\"\n",
       " \"http://www.w3.org/Graphics/SVG/1.1/DTD/svg11.dtd\">\n",
       "<!-- Generated by graphviz version 2.38.0 (20140413.2041)\n",
       " -->\n",
       "<!-- Title: Tree Pages: 1 -->\n",
       "<svg width=\"585pt\" height=\"258pt\"\n",
       " viewBox=\"0.00 0.00 584.54 258.00\" xmlns=\"http://www.w3.org/2000/svg\" xmlns:xlink=\"http://www.w3.org/1999/xlink\">\n",
       "<g id=\"graph0\" class=\"graph\" transform=\"scale(1 1) rotate(0) translate(4 254)\">\n",
       "<title>Tree</title>\n",
       "<polygon fill=\"white\" stroke=\"none\" points=\"-4,4 -4,-254 580.537,-254 580.537,4 -4,4\"/>\n",
       "<!-- 0 -->\n",
       "<g id=\"node1\" class=\"node\"><title>0</title>\n",
       "<polygon fill=\"none\" stroke=\"black\" points=\"368.306,-250 221.231,-250 221.231,-186 368.306,-186 368.306,-250\"/>\n",
       "<text text-anchor=\"middle\" x=\"294.769\" y=\"-234.8\" font-family=\"Times,serif\" font-size=\"14.00\">RM &lt;= 6.594</text>\n",
       "<text text-anchor=\"middle\" x=\"294.769\" y=\"-220.8\" font-family=\"Times,serif\" font-size=\"14.00\">gini = 0.741</text>\n",
       "<text text-anchor=\"middle\" x=\"294.769\" y=\"-206.8\" font-family=\"Times,serif\" font-size=\"14.00\">samples = 303</text>\n",
       "<text text-anchor=\"middle\" x=\"294.769\" y=\"-192.8\" font-family=\"Times,serif\" font-size=\"14.00\">value = [59, 91, 89, 64]</text>\n",
       "</g>\n",
       "<!-- 1 -->\n",
       "<g id=\"node2\" class=\"node\"><title>1</title>\n",
       "<polygon fill=\"none\" stroke=\"black\" points=\"287.806,-150 147.731,-150 147.731,-86 287.806,-86 287.806,-150\"/>\n",
       "<text text-anchor=\"middle\" x=\"217.769\" y=\"-134.8\" font-family=\"Times,serif\" font-size=\"14.00\">LSTAT &lt;= 15.1</text>\n",
       "<text text-anchor=\"middle\" x=\"217.769\" y=\"-120.8\" font-family=\"Times,serif\" font-size=\"14.00\">gini = 0.6646</text>\n",
       "<text text-anchor=\"middle\" x=\"217.769\" y=\"-106.8\" font-family=\"Times,serif\" font-size=\"14.00\">samples = 217</text>\n",
       "<text text-anchor=\"middle\" x=\"217.769\" y=\"-92.8\" font-family=\"Times,serif\" font-size=\"14.00\">value = [52, 88, 73, 4]</text>\n",
       "</g>\n",
       "<!-- 0&#45;&gt;1 -->\n",
       "<g id=\"edge1\" class=\"edge\"><title>0&#45;&gt;1</title>\n",
       "<path fill=\"none\" stroke=\"black\" d=\"M270.405,-185.992C263.453,-177.144 255.788,-167.388 248.508,-158.123\"/>\n",
       "<polygon fill=\"black\" stroke=\"black\" points=\"251.168,-155.843 242.238,-150.142 245.664,-160.168 251.168,-155.843\"/>\n",
       "<text text-anchor=\"middle\" x=\"239.259\" y=\"-170.764\" font-family=\"Times,serif\" font-size=\"14.00\">True</text>\n",
       "</g>\n",
       "<!-- 4 -->\n",
       "<g id=\"node5\" class=\"node\"><title>4</title>\n",
       "<polygon fill=\"none\" stroke=\"black\" points=\"439.306,-150 306.231,-150 306.231,-86 439.306,-86 439.306,-150\"/>\n",
       "<text text-anchor=\"middle\" x=\"372.769\" y=\"-134.8\" font-family=\"Times,serif\" font-size=\"14.00\">PTRATIO &lt;= 19.45</text>\n",
       "<text text-anchor=\"middle\" x=\"372.769\" y=\"-120.8\" font-family=\"Times,serif\" font-size=\"14.00\">gini = 0.4708</text>\n",
       "<text text-anchor=\"middle\" x=\"372.769\" y=\"-106.8\" font-family=\"Times,serif\" font-size=\"14.00\">samples = 86</text>\n",
       "<text text-anchor=\"middle\" x=\"372.769\" y=\"-92.8\" font-family=\"Times,serif\" font-size=\"14.00\">value = [7, 3, 16, 60]</text>\n",
       "</g>\n",
       "<!-- 0&#45;&gt;4 -->\n",
       "<g id=\"edge4\" class=\"edge\"><title>0&#45;&gt;4</title>\n",
       "<path fill=\"none\" stroke=\"black\" d=\"M319.448,-185.992C326.49,-177.144 334.256,-167.388 341.63,-158.123\"/>\n",
       "<polygon fill=\"black\" stroke=\"black\" points=\"344.493,-160.146 347.982,-150.142 339.016,-155.787 344.493,-160.146\"/>\n",
       "<text text-anchor=\"middle\" x=\"350.804\" y=\"-170.783\" font-family=\"Times,serif\" font-size=\"14.00\">False</text>\n",
       "</g>\n",
       "<!-- 2 -->\n",
       "<g id=\"node3\" class=\"node\"><title>2</title>\n",
       "<polygon fill=\"none\" stroke=\"black\" points=\"133.306,-50 0.230646,-50 0.230646,-0 133.306,-0 133.306,-50\"/>\n",
       "<text text-anchor=\"middle\" x=\"66.7686\" y=\"-34.8\" font-family=\"Times,serif\" font-size=\"14.00\">gini = 0.5392</text>\n",
       "<text text-anchor=\"middle\" x=\"66.7686\" y=\"-20.8\" font-family=\"Times,serif\" font-size=\"14.00\">samples = 129</text>\n",
       "<text text-anchor=\"middle\" x=\"66.7686\" y=\"-6.8\" font-family=\"Times,serif\" font-size=\"14.00\">value = [2, 55, 68, 4]</text>\n",
       "</g>\n",
       "<!-- 1&#45;&gt;2 -->\n",
       "<g id=\"edge2\" class=\"edge\"><title>1&#45;&gt;2</title>\n",
       "<path fill=\"none\" stroke=\"black\" d=\"M166.225,-85.9375C149.789,-76.0324 131.664,-65.109 115.438,-55.3308\"/>\n",
       "<polygon fill=\"black\" stroke=\"black\" points=\"117.014,-52.194 106.643,-50.0301 113.401,-58.1895 117.014,-52.194\"/>\n",
       "</g>\n",
       "<!-- 3 -->\n",
       "<g id=\"node4\" class=\"node\"><title>3</title>\n",
       "<polygon fill=\"none\" stroke=\"black\" points=\"285.306,-50 152.231,-50 152.231,-0 285.306,-0 285.306,-50\"/>\n",
       "<text text-anchor=\"middle\" x=\"218.769\" y=\"-34.8\" font-family=\"Times,serif\" font-size=\"14.00\">gini = 0.5333</text>\n",
       "<text text-anchor=\"middle\" x=\"218.769\" y=\"-20.8\" font-family=\"Times,serif\" font-size=\"14.00\">samples = 88</text>\n",
       "<text text-anchor=\"middle\" x=\"218.769\" y=\"-6.8\" font-family=\"Times,serif\" font-size=\"14.00\">value = [50, 33, 5, 0]</text>\n",
       "</g>\n",
       "<!-- 1&#45;&gt;3 -->\n",
       "<g id=\"edge3\" class=\"edge\"><title>1&#45;&gt;3</title>\n",
       "<path fill=\"none\" stroke=\"black\" d=\"M218.11,-85.9375C218.201,-77.6833 218.299,-68.7219 218.392,-60.3053\"/>\n",
       "<polygon fill=\"black\" stroke=\"black\" points=\"221.894,-60.068 218.504,-50.0301 214.895,-59.991 221.894,-60.068\"/>\n",
       "</g>\n",
       "<!-- 5 -->\n",
       "<g id=\"node6\" class=\"node\"><title>5</title>\n",
       "<polygon fill=\"none\" stroke=\"black\" points=\"438.306,-50 305.231,-50 305.231,-0 438.306,-0 438.306,-50\"/>\n",
       "<text text-anchor=\"middle\" x=\"371.769\" y=\"-34.8\" font-family=\"Times,serif\" font-size=\"14.00\">gini = 0.2509</text>\n",
       "<text text-anchor=\"middle\" x=\"371.769\" y=\"-20.8\" font-family=\"Times,serif\" font-size=\"14.00\">samples = 68</text>\n",
       "<text text-anchor=\"middle\" x=\"371.769\" y=\"-6.8\" font-family=\"Times,serif\" font-size=\"14.00\">value = [0, 0, 10, 58]</text>\n",
       "</g>\n",
       "<!-- 4&#45;&gt;5 -->\n",
       "<g id=\"edge5\" class=\"edge\"><title>4&#45;&gt;5</title>\n",
       "<path fill=\"none\" stroke=\"black\" d=\"M372.427,-85.9375C372.337,-77.6833 372.238,-68.7219 372.146,-60.3053\"/>\n",
       "<polygon fill=\"black\" stroke=\"black\" points=\"375.642,-59.991 372.033,-50.0301 368.643,-60.068 375.642,-59.991\"/>\n",
       "</g>\n",
       "<!-- 6 -->\n",
       "<g id=\"node7\" class=\"node\"><title>6</title>\n",
       "<polygon fill=\"none\" stroke=\"black\" points=\"576.307,-50 457.231,-50 457.231,-0 576.307,-0 576.307,-50\"/>\n",
       "<text text-anchor=\"middle\" x=\"516.769\" y=\"-34.8\" font-family=\"Times,serif\" font-size=\"14.00\">gini = 0.6975</text>\n",
       "<text text-anchor=\"middle\" x=\"516.769\" y=\"-20.8\" font-family=\"Times,serif\" font-size=\"14.00\">samples = 18</text>\n",
       "<text text-anchor=\"middle\" x=\"516.769\" y=\"-6.8\" font-family=\"Times,serif\" font-size=\"14.00\">value = [7, 3, 6, 2]</text>\n",
       "</g>\n",
       "<!-- 4&#45;&gt;6 -->\n",
       "<g id=\"edge6\" class=\"edge\"><title>4&#45;&gt;6</title>\n",
       "<path fill=\"none\" stroke=\"black\" d=\"M421.922,-85.9375C437.451,-76.1241 454.562,-65.3112 469.925,-55.6027\"/>\n",
       "<polygon fill=\"black\" stroke=\"black\" points=\"472.159,-58.331 478.743,-50.0301 468.42,-52.4135 472.159,-58.331\"/>\n",
       "</g>\n",
       "</g>\n",
       "</svg>\n"
      ]
     },
     "metadata": {},
     "output_type": "display_data"
    }
   ],
   "source": [
    "dot_data = externals.six.StringIO()\n",
    "tree.export_graphviz(model, out_file = dot_data, feature_names = X.columns)\n",
    "%dotstr dot_data.getvalue()"
   ]
  },
  {
   "cell_type": "markdown",
   "metadata": {},
   "source": [
    "> ### Question 14.  What are the features used by the model?"
   ]
  },
  {
   "cell_type": "code",
   "execution_count": 53,
   "metadata": {
    "collapsed": false
   },
   "outputs": [
    {
     "data": {
      "text/plain": [
       "[(0.50764359922462399, 'RM'),\n",
       " (0.35370148958476544, 'LSTAT'),\n",
       " (0.13865491119061069, 'PTRATIO'),\n",
       " (0.0, 'ZN'),\n",
       " (0.0, 'TAX'),\n",
       " (0.0, 'RAD'),\n",
       " (0.0, 'NOX'),\n",
       " (0.0, 'INDUS'),\n",
       " (0.0, 'DIS'),\n",
       " (0.0, 'CRIM'),\n",
       " (0.0, 'CHAS'),\n",
       " (0.0, 'BLACK'),\n",
       " (0.0, 'AGE')]"
      ]
     },
     "execution_count": 53,
     "metadata": {},
     "output_type": "execute_result"
    }
   ],
   "source": [
    "sorted(zip(model.feature_importances_, X.columns.values), reverse = True)"
   ]
  },
  {
   "cell_type": "markdown",
   "metadata": {},
   "source": [
    "Answer: `RM`, `LSTAT`, and `PTRATIO`"
   ]
  },
  {
   "cell_type": "markdown",
   "metadata": {},
   "source": [
    "## Part C - Random Forest with Categorical Variables"
   ]
  },
  {
   "cell_type": "markdown",
   "metadata": {},
   "source": [
    "> ### Question 15.  Create a Random Forest Classifier with `n_estimators = 1000, max_features = 4, min_samples_leaf = 5, oob_score = True`"
   ]
  },
  {
   "cell_type": "markdown",
   "metadata": {},
   "source": [
    "(Check http://scikit-learn.org/stable/modules/generated/sklearn.ensemble.RandomForestClassifier.html as needed)"
   ]
  },
  {
   "cell_type": "code",
   "execution_count": 20,
   "metadata": {
    "collapsed": false
   },
   "outputs": [],
   "source": [
    "model = ensemble.RandomForestClassifier(n_estimators = 1000,\n",
    "        max_features = 4,\n",
    "        min_samples_leaf = 5,\n",
    "        oob_score = True,\n",
    "        random_state = 0).\\\n",
    "    fit(train_X, train_y)"
   ]
  },
  {
   "cell_type": "markdown",
   "metadata": {},
   "source": [
    "> ### Question 16.  What is the Out-of-bag (OOB) error?"
   ]
  },
  {
   "cell_type": "markdown",
   "metadata": {},
   "source": [
    "(We will cover this in a future lecture... but Out-of-Bag (OOB) error, also called \"out-of-bag estimate\", is a method of measuring the prediction error of random forestswhen sub-sample data was used for training.  OOB is the mean prediction error on each training sample $x_i$, using only the trees that did not have $x_i$ in their bootstrap sample)"
   ]
  },
  {
   "cell_type": "code",
   "execution_count": 21,
   "metadata": {
    "collapsed": false
   },
   "outputs": [
    {
     "data": {
      "text/plain": [
       "0.69306930693069302"
      ]
     },
     "execution_count": 21,
     "metadata": {},
     "output_type": "execute_result"
    }
   ],
   "source": [
    "model.oob_score_"
   ]
  },
  {
   "cell_type": "markdown",
   "metadata": {},
   "source": [
    "Answer: ~.69"
   ]
  },
  {
   "cell_type": "markdown",
   "metadata": {},
   "source": [
    "> ### Question 17.  What is your 10-fold cross-validation error on your training set?"
   ]
  },
  {
   "cell_type": "code",
   "execution_count": 22,
   "metadata": {
    "collapsed": false
   },
   "outputs": [
    {
     "data": {
      "text/plain": [
       "0.69720046082949305"
      ]
     },
     "execution_count": 22,
     "metadata": {},
     "output_type": "execute_result"
    }
   ],
   "source": [
    "cross_validation.cross_val_score(model, train_X, train_y, cv = 10).mean()"
   ]
  },
  {
   "cell_type": "markdown",
   "metadata": {},
   "source": [
    "Answer: ~.70"
   ]
  }
 ],
 "metadata": {
  "anaconda-cloud": {},
  "kernelspec": {
   "display_name": "Python [Root]",
   "language": "python",
   "name": "Python [Root]"
  },
  "language_info": {
   "codemirror_mode": {
    "name": "ipython",
    "version": 2
   },
   "file_extension": ".py",
   "mimetype": "text/x-python",
   "name": "python",
   "nbconvert_exporter": "python",
   "pygments_lexer": "ipython2",
   "version": "2.7.12"
  }
 },
 "nbformat": 4,
 "nbformat_minor": 0
}
