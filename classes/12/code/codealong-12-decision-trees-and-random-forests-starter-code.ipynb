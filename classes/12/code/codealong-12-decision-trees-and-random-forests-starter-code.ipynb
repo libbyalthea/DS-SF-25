{
 "cells": [
  {
   "cell_type": "markdown",
   "metadata": {},
   "source": [
    "# DS-SF-25 | Codealong 12 | Decision Trees and Random Forests"
   ]
  },
  {
   "cell_type": "code",
   "execution_count": 1,
   "metadata": {
    "collapsed": true
   },
   "outputs": [],
   "source": [
    "import os\n",
    "\n",
    "import numpy as np\n",
    "import pandas as pd\n",
    "pd.set_option('display.max_rows', 10)\n",
    "pd.set_option('display.notebook_repr_html', True)\n",
    "pd.set_option('display.max_columns', 10)\n",
    "\n",
    "import matplotlib.pyplot as plt\n",
    "%matplotlib inline\n",
    "plt.style.use('ggplot')\n",
    "\n",
    "import math"
   ]
  },
  {
   "cell_type": "code",
   "execution_count": null,
   "metadata": {
    "collapsed": true
   },
   "outputs": [],
   "source": []
  },
  {
   "cell_type": "markdown",
   "metadata": {},
   "source": [
    "## Part A - The 2008 Democratic Primaries"
   ]
  },
  {
   "cell_type": "markdown",
   "metadata": {},
   "source": [
    "(dataset adapted from http://www.stat.ucla.edu/~cocteau/primaries.csv)"
   ]
  },
  {
   "cell_type": "code",
   "execution_count": 16,
   "metadata": {
    "collapsed": false
   },
   "outputs": [],
   "source": [
    "df = pd.read_csv(os.path.join('..', 'datasets', '2008-democrat-primaries.csv'))"
   ]
  },
  {
   "cell_type": "code",
   "execution_count": 17,
   "metadata": {
    "collapsed": false
   },
   "outputs": [
    {
     "data": {
      "text/plain": [
       "Index([u'fips', u'county_name', u'state_postal', u'region', u'election_date',\n",
       "       u'racetype', u'tvotes', u'clinton', u'obama', u'edwards', u'margin',\n",
       "       u'winner', u'POP05_SQMI', u'popUnder30_00', u'pop65up_00',\n",
       "       u'presVote04', u'kerry04', u'Bush04', u'pres04margin', u'pres04winner',\n",
       "       u'pop06', u'pop00', u'hisp06', u'white06', u'black06', u'indian06',\n",
       "       u'asian06', u'hawaii06', u'mixed06', u'pct_less_30k', u'pct_more_100k',\n",
       "       u'pct_hs_grad', u'pct_labor_force', u'pct_homeowner', u'unempFeb07',\n",
       "       u'unempFeb08', u'unempChg', u'pctUnins00', u'subForPctHomes',\n",
       "       u'poverty05', u'median_hhi05', u'Catholic', u'So.Bapt.Conv',\n",
       "       u'Un.Methodist', u'E.L.C.A.', u'Construction', u'Manufacturing',\n",
       "       u'FinancialActivities', u'GoodsProducing', u'ServiceProviding'],\n",
       "      dtype='object')"
      ]
     },
     "execution_count": 17,
     "metadata": {},
     "output_type": "execute_result"
    }
   ],
   "source": [
    "df.columns"
   ]
  },
  {
   "cell_type": "code",
   "execution_count": 14,
   "metadata": {
    "collapsed": false
   },
   "outputs": [
    {
     "data": {
      "text/plain": [
       "clinton    1210\n",
       "obama      1031\n",
       "Name: winner, dtype: int64"
      ]
     },
     "execution_count": 14,
     "metadata": {},
     "output_type": "execute_result"
    }
   ],
   "source": [
    "df.winner.value_counts()"
   ]
  },
  {
   "cell_type": "code",
   "execution_count": 24,
   "metadata": {
    "collapsed": false
   },
   "outputs": [
    {
     "data": {
      "text/plain": [
       "0         obama\n",
       "1       clinton\n",
       "2         obama\n",
       "3       clinton\n",
       "4       clinton\n",
       "         ...   \n",
       "2256    clinton\n",
       "2257      obama\n",
       "2258      obama\n",
       "2259      obama\n",
       "2260    clinton\n",
       "Name: c, dtype: object"
      ]
     },
     "execution_count": 24,
     "metadata": {},
     "output_type": "execute_result"
    }
   ],
   "source": [
    "df['c']=df.winner\n",
    "df.c"
   ]
  },
  {
   "cell_type": "code",
   "execution_count": null,
   "metadata": {
    "collapsed": true
   },
   "outputs": [],
   "source": []
  },
  {
   "cell_type": "markdown",
   "metadata": {
    "collapsed": true
   },
   "source": [
    "### First cut: Is a county more than 20% black?"
   ]
  },
  {
   "cell_type": "code",
   "execution_count": 22,
   "metadata": {
    "collapsed": false
   },
   "outputs": [
    {
     "data": {
      "text/plain": [
       "False    1811\n",
       "True      450\n",
       "Name: perc_black_over20, dtype: int64"
      ]
     },
     "execution_count": 22,
     "metadata": {},
     "output_type": "execute_result"
    }
   ],
   "source": [
    "df['perc_black_over20']=df.black06*1./df.pop06>0.2\n",
    "df.perc_black_over20.value_counts()"
   ]
  },
  {
   "cell_type": "code",
   "execution_count": 53,
   "metadata": {
    "collapsed": false
   },
   "outputs": [],
   "source": [
    "parent_df=df\n",
    "right_child_df=df[df.perc_black_over20==True]\n",
    "left_child_df=parent_df.drop(right_child_df.index)\n"
   ]
  },
  {
   "cell_type": "code",
   "execution_count": 44,
   "metadata": {
    "collapsed": false
   },
   "outputs": [
    {
     "name": "stdout",
     "output_type": "stream",
     "text": [
      "380\n",
      "69\n"
     ]
    }
   ],
   "source": [
    "print (right_child_df.c=='obama').sum()\n",
    "print (right_child_df.c=='clinton').sum()"
   ]
  },
  {
   "cell_type": "code",
   "execution_count": null,
   "metadata": {
    "collapsed": true
   },
   "outputs": [],
   "source": []
  },
  {
   "cell_type": "code",
   "execution_count": 45,
   "metadata": {
    "collapsed": false
   },
   "outputs": [
    {
     "name": "stdout",
     "output_type": "stream",
     "text": [
      "651\n",
      "1141\n"
     ]
    }
   ],
   "source": [
    "print (left_child_df.c=='obama').sum()\n",
    "print (left_child_df.c=='clinton').sum()"
   ]
  },
  {
   "cell_type": "code",
   "execution_count": 54,
   "metadata": {
    "collapsed": true
   },
   "outputs": [],
   "source": [
    "parent_df=left_child_df\n",
    "right_child_df=parent_df[parent_df.pct_hs_grad>0.78]\n",
    "left_child_df=parent_df.drop(right_child_df.index)\n"
   ]
  },
  {
   "cell_type": "code",
   "execution_count": 55,
   "metadata": {
    "collapsed": false
   },
   "outputs": [
    {
     "name": "stdout",
     "output_type": "stream",
     "text": [
      "556\n",
      "433\n"
     ]
    }
   ],
   "source": [
    "print (right_child_df.c=='obama').sum()\n",
    "print (right_child_df.c=='clinton').sum()"
   ]
  },
  {
   "cell_type": "code",
   "execution_count": 56,
   "metadata": {
    "collapsed": false
   },
   "outputs": [
    {
     "name": "stdout",
     "output_type": "stream",
     "text": [
      "95\n",
      "708\n"
     ]
    }
   ],
   "source": [
    "print (left_child_df.c=='obama').sum()\n",
    "print (left_child_df.c=='clinton').sum()"
   ]
  },
  {
   "cell_type": "code",
   "execution_count": 59,
   "metadata": {
    "collapsed": false
   },
   "outputs": [
    {
     "data": {
      "text/plain": [
       "'Obama'"
      ]
     },
     "execution_count": 59,
     "metadata": {},
     "output_type": "execute_result"
    }
   ],
   "source": [
    "def predict(black,educated):\n",
    "    if black is True:\n",
    "        return 'Obama'\n",
    "    if eductated is True:\n",
    "        return 'Obama'\n",
    "    else:\n",
    "        return 'Clinton'\n",
    "predict(True,True)"
   ]
  },
  {
   "cell_type": "code",
   "execution_count": 73,
   "metadata": {
    "collapsed": false
   },
   "outputs": [
    {
     "data": {
      "text/plain": [
       "'No'"
      ]
     },
     "execution_count": 73,
     "metadata": {},
     "output_type": "execute_result"
    }
   ],
   "source": [
    "def predict(X):\n",
    "    if X[0] is True:\n",
    "        return 'Yes'\n",
    "    if X[1] is True:\n",
    "        return 'Yes'\n",
    "    else:\n",
    "        return 'No'\n",
    "\n",
    "X=['True','True']\n",
    "\n",
    "predict(X)"
   ]
  },
  {
   "cell_type": "markdown",
   "metadata": {},
   "source": [
    "1. set root node to parent node\n",
    "2. while parent node is not a leaf node\n",
    "    evaluate split condition of the parent node using x\n",
    "         if true set left node as new parent node\n",
    "         otherwise set right node as new parent node\n",
    "       repeat\n",
    "3. return class of leaf leaf node"
   ]
  },
  {
   "cell_type": "markdown",
   "metadata": {
    "collapsed": true
   },
   "source": [
    "#### First cut/right node"
   ]
  },
  {
   "cell_type": "code",
   "execution_count": null,
   "metadata": {
    "collapsed": false
   },
   "outputs": [],
   "source": [
    "# TODO"
   ]
  },
  {
   "cell_type": "code",
   "execution_count": 74,
   "metadata": {
    "collapsed": false
   },
   "outputs": [],
   "source": [
    "def obama_vs_clinton(df):\n",
    "    obama = (df.c == 1).sum()\n",
    "    clinton = (df.c == 0).sum()\n",
    "    if obama > clinton:\n",
    "        print 'Obama wins these counties {} to {}.'.format(obama, clinton)\n",
    "    elif clinton > obama:\n",
    "        print 'Clinton wins these counties {} to {}.'.format(clinton, obama)\n",
    "    else:\n",
    "        print 'Obama and Clinton tie in these counties {} {}.'.format(obama, clinton)"
   ]
  },
  {
   "cell_type": "code",
   "execution_count": 75,
   "metadata": {
    "collapsed": false
   },
   "outputs": [
    {
     "name": "stdout",
     "output_type": "stream",
     "text": [
      "Obama and Clinton tie in these counties 0 0.\n"
     ]
    }
   ],
   "source": [
    "obama_vs_clinton(right_child_df)"
   ]
  },
  {
   "cell_type": "markdown",
   "metadata": {},
   "source": [
    "### Second cut: Is high school graduation rate higher than 78%?"
   ]
  },
  {
   "cell_type": "code",
   "execution_count": null,
   "metadata": {
    "collapsed": true
   },
   "outputs": [],
   "source": [
    "# TODO"
   ]
  },
  {
   "cell_type": "code",
   "execution_count": null,
   "metadata": {
    "collapsed": false
   },
   "outputs": [],
   "source": [
    "obama_vs_clinton(left_child_df)"
   ]
  },
  {
   "cell_type": "markdown",
   "metadata": {},
   "source": [
    "### Third cut: Is high school graduation rate higher than 87%?"
   ]
  },
  {
   "cell_type": "code",
   "execution_count": null,
   "metadata": {
    "collapsed": true
   },
   "outputs": [],
   "source": [
    "# TODO"
   ]
  },
  {
   "cell_type": "code",
   "execution_count": null,
   "metadata": {
    "collapsed": false
   },
   "outputs": [],
   "source": [
    "obama_vs_clinton(right_child_df)"
   ]
  },
  {
   "cell_type": "markdown",
   "metadata": {},
   "source": [
    "## Part B - Building the 2008 Democratic Primaries Decision Tree by Hand"
   ]
  },
  {
   "cell_type": "code",
   "execution_count": null,
   "metadata": {
    "collapsed": false
   },
   "outputs": [],
   "source": [
    "class Node:\n",
    "\n",
    "    @staticmethod\n",
    "    def root(root_df):\n",
    "        cs = sorted(set(root_df.c))\n",
    "        return Node(cs, root_df)\n",
    "\n",
    "    def decision(self, left_filter):\n",
    "        # Collect the observations for which the decision split is true and\n",
    "        # create the corresponding left node\n",
    "\n",
    "        left_filter = left_filter(self.df)\n",
    "        left_df = self.df[left_filter]\n",
    "        self.left = Node(self.cs, left_df)\n",
    "\n",
    "        # Same thing on the right side but for the observations that don't\n",
    "        # satisfy the decision split (the \"else\")\n",
    "\n",
    "        right_df = self.df.drop(left_df.index)\n",
    "        self.right = Node(self.cs, right_df)\n",
    "\n",
    "        # The entropy after the decision split is the weighted average of the\n",
    "        # children entropy\n",
    "\n",
    "        self.after = (self.left.samples * self.left.before\n",
    "                      + self.right.samples * self.right.before) / self.samples\n",
    "\n",
    "        # The information gain corresponds to the entropy lost between the\n",
    "        # parent node (this node and the \"before\") and its child (the \"after\")\n",
    "\n",
    "        self.information_gain = self.before - self.after\n",
    "\n",
    "        return self\n",
    "\n",
    "    def __init__(self, cs, df):\n",
    "        self.cs = cs\n",
    "        self.df = df\n",
    "\n",
    "        # Counts of the remaining observations in the subspace per classes\n",
    "        self.counts = [sum(self.df.c == c) for c in self.cs]\n",
    "\n",
    "        # Number of observations in the subspace\n",
    "        self.samples = sum(self.counts)\n",
    "\n",
    "        # For empty subspaces, probabilties and entropy are set to zero\n",
    "        if self.samples == 0:\n",
    "            self.probabilities = [0. for count in self.counts]\n",
    "            self.before = 0.\n",
    "        else:\n",
    "            self.probabilities = [1. * count / self.samples for count in self.counts]\n",
    "            self.before = - sum(map(lambda p: p * math.log(p, 2),\n",
    "                                    filter(lambda p : p > 0., self.probabilities)))\n",
    "\n",
    "    def status(self):\n",
    "        print 'classes                       =', self.cs\n",
    "        print 'before:'\n",
    "        print \"\\tparent:\"\n",
    "        print \"\\t\\tsamples       =\", self.samples\n",
    "        print \"\\t\\tcounts        =\", self.counts\n",
    "        print \"\\t\\tprobabilities =\", self.probabilities\n",
    "        print \"\\t\\tentropy       =\", self.before\n",
    "        print 'after:'\n",
    "        print \"\\tleft child:\"\n",
    "        print \"\\t\\tsamples       =\", self.left.samples\n",
    "        print \"\\t\\tcounts        =\", self.left.counts\n",
    "        print \"\\t\\tprobabilities =\", self.left.probabilities\n",
    "        print \"\\t\\tentropy       =\", self.left.before\n",
    "        print \"\\tright child:\"\n",
    "        print \"\\t\\tsamples       =\", self.right.samples\n",
    "        print \"\\t\\tcounts        =\", self.right.counts\n",
    "        print \"\\t\\tprobabilities =\", self.right.probabilities\n",
    "        print \"\\t\\tentropy       =\", self.right.before\n",
    "        print\n",
    "        print 'before entropy                =', self.before\n",
    "        print 'after entropy                 =', self.after\n",
    "        print 'information gain              =', self.information_gain"
   ]
  },
  {
   "cell_type": "code",
   "execution_count": null,
   "metadata": {
    "collapsed": true
   },
   "outputs": [],
   "source": [
    "df.c = df.winner"
   ]
  },
  {
   "cell_type": "markdown",
   "metadata": {},
   "source": [
    "### First cut"
   ]
  },
  {
   "cell_type": "code",
   "execution_count": null,
   "metadata": {
    "collapsed": false
   },
   "outputs": [],
   "source": [
    "# TODO"
   ]
  },
  {
   "cell_type": "markdown",
   "metadata": {
    "collapsed": true
   },
   "source": [
    "#### Candidate #1: Is a county more than 20% black?"
   ]
  },
  {
   "cell_type": "code",
   "execution_count": null,
   "metadata": {
    "collapsed": false
   },
   "outputs": [],
   "source": [
    "# TODO"
   ]
  },
  {
   "cell_type": "markdown",
   "metadata": {
    "collapsed": true
   },
   "source": [
    "#### Candidate #2: Is high school graduation rate higher than 78%?"
   ]
  },
  {
   "cell_type": "code",
   "execution_count": null,
   "metadata": {
    "collapsed": false
   },
   "outputs": [],
   "source": [
    "# TODO"
   ]
  },
  {
   "cell_type": "markdown",
   "metadata": {
    "collapsed": true
   },
   "source": [
    "#### Candidate #3: Is high school graduation rate higher than 87%?"
   ]
  },
  {
   "cell_type": "code",
   "execution_count": null,
   "metadata": {
    "collapsed": false
   },
   "outputs": [],
   "source": [
    "# TODO"
   ]
  },
  {
   "cell_type": "markdown",
   "metadata": {},
   "source": [
    "### Second cut"
   ]
  },
  {
   "cell_type": "code",
   "execution_count": null,
   "metadata": {
    "collapsed": true
   },
   "outputs": [],
   "source": [
    "# TODO"
   ]
  },
  {
   "cell_type": "markdown",
   "metadata": {},
   "source": [
    "### Third cut"
   ]
  },
  {
   "cell_type": "code",
   "execution_count": null,
   "metadata": {
    "collapsed": false
   },
   "outputs": [],
   "source": [
    "# TODO"
   ]
  }
 ],
 "metadata": {
  "anaconda-cloud": {},
  "kernelspec": {
   "display_name": "Python [Root]",
   "language": "python",
   "name": "Python [Root]"
  },
  "language_info": {
   "codemirror_mode": {
    "name": "ipython",
    "version": 2
   },
   "file_extension": ".py",
   "mimetype": "text/x-python",
   "name": "python",
   "nbconvert_exporter": "python",
   "pygments_lexer": "ipython2",
   "version": "2.7.12"
  }
 },
 "nbformat": 4,
 "nbformat_minor": 0
}
