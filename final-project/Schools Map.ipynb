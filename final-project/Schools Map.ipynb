{
 "cells": [
  {
   "cell_type": "code",
   "execution_count": 3,
   "metadata": {
    "collapsed": false
   },
   "outputs": [
    {
     "ename": "ImportError",
     "evalue": "No module named mlp_toolkits",
     "output_type": "error",
     "traceback": [
      "\u001b[0;31m---------------------------------------------------------------------------\u001b[0m",
      "\u001b[0;31mImportError\u001b[0m                               Traceback (most recent call last)",
      "\u001b[0;32m<ipython-input-3-cee7cbfd5d02>\u001b[0m in \u001b[0;36m<module>\u001b[0;34m()\u001b[0m\n\u001b[1;32m      1\u001b[0m \u001b[0;32mimport\u001b[0m \u001b[0mmpl_toolkits\u001b[0m\u001b[0;34m\u001b[0m\u001b[0m\n\u001b[0;32m----> 2\u001b[0;31m \u001b[0;32mfrom\u001b[0m \u001b[0mmlp_toolkits\u001b[0m \u001b[0;32mimport\u001b[0m \u001b[0mbasecamp\u001b[0m\u001b[0;34m\u001b[0m\u001b[0m\n\u001b[0m\u001b[1;32m      3\u001b[0m \u001b[0;32mimport\u001b[0m \u001b[0mpandas\u001b[0m \u001b[0;32mas\u001b[0m \u001b[0mpd\u001b[0m\u001b[0;34m\u001b[0m\u001b[0m\n\u001b[1;32m      4\u001b[0m \u001b[0;32mfrom\u001b[0m \u001b[0mmlp_toolkits\u001b[0m\u001b[0;34m.\u001b[0m\u001b[0mbasemap\u001b[0m \u001b[0;32mimport\u001b[0m \u001b[0mBasemap\u001b[0m\u001b[0;34m\u001b[0m\u001b[0m\n\u001b[1;32m      5\u001b[0m \u001b[0;32mimport\u001b[0m \u001b[0mmatplotlib\u001b[0m\u001b[0;34m.\u001b[0m\u001b[0mpyplot\u001b[0m \u001b[0;32mas\u001b[0m \u001b[0mplt\u001b[0m\u001b[0;34m\u001b[0m\u001b[0m\n",
      "\u001b[0;31mImportError\u001b[0m: No module named mlp_toolkits"
     ]
    }
   ],
   "source": [
    "import mpl_toolkits\n",
    "from mlp_toolkits import basecamp\n",
    "import pandas as pd\n",
    "from mlp_toolkits.basemap import Basemap\n",
    "import matplotlib.pyplot as plt\n",
    "import numpy as np\n",
    " \n"
   ]
  },
  {
   "cell_type": "code",
   "execution_count": 5,
   "metadata": {
    "collapsed": false
   },
   "outputs": [
    {
     "data": {
      "text/html": [
       "<div>\n",
       "<table border=\"1\" class=\"dataframe\">\n",
       "  <thead>\n",
       "    <tr style=\"text-align: right;\">\n",
       "      <th></th>\n",
       "      <th>Unnamed: 0</th>\n",
       "      <th>CDSCode</th>\n",
       "      <th>Latitude</th>\n",
       "      <th>Longitude</th>\n",
       "      <th>FundingType</th>\n",
       "      <th>type</th>\n",
       "      <th>charter</th>\n",
       "      <th>met_all</th>\n",
       "      <th>crit1</th>\n",
       "      <th>crit2</th>\n",
       "      <th>...</th>\n",
       "      <th>school_code</th>\n",
       "      <th>partial_virtual</th>\n",
       "      <th>all_virtual</th>\n",
       "      <th>any_virtual</th>\n",
       "      <th>perc_staff_masters</th>\n",
       "      <th>student_teacher</th>\n",
       "      <th>success</th>\n",
       "      <th>math_above_avg</th>\n",
       "      <th>english_above_avg</th>\n",
       "      <th>above_avg</th>\n",
       "    </tr>\n",
       "  </thead>\n",
       "  <tbody>\n",
       "    <tr>\n",
       "      <th>0</th>\n",
       "      <td>1</td>\n",
       "      <td>1100170112607</td>\n",
       "      <td>37.804520</td>\n",
       "      <td>-122.26815</td>\n",
       "      <td>Directly funded</td>\n",
       "      <td>H</td>\n",
       "      <td>D</td>\n",
       "      <td>Yes</td>\n",
       "      <td>3</td>\n",
       "      <td>3</td>\n",
       "      <td>...</td>\n",
       "      <td>112607</td>\n",
       "      <td>False</td>\n",
       "      <td>False</td>\n",
       "      <td>False</td>\n",
       "      <td>NaN</td>\n",
       "      <td>NaN</td>\n",
       "      <td>True</td>\n",
       "      <td>False</td>\n",
       "      <td>False</td>\n",
       "      <td>False</td>\n",
       "    </tr>\n",
       "    <tr>\n",
       "      <th>1</th>\n",
       "      <td>2</td>\n",
       "      <td>1100170123968</td>\n",
       "      <td>37.784648</td>\n",
       "      <td>-122.23863</td>\n",
       "      <td>Directly funded</td>\n",
       "      <td>E</td>\n",
       "      <td>D</td>\n",
       "      <td>No</td>\n",
       "      <td>2</td>\n",
       "      <td>3</td>\n",
       "      <td>...</td>\n",
       "      <td>123968</td>\n",
       "      <td>False</td>\n",
       "      <td>False</td>\n",
       "      <td>False</td>\n",
       "      <td>NaN</td>\n",
       "      <td>NaN</td>\n",
       "      <td>False</td>\n",
       "      <td>False</td>\n",
       "      <td>False</td>\n",
       "      <td>False</td>\n",
       "    </tr>\n",
       "  </tbody>\n",
       "</table>\n",
       "<p>2 rows × 79 columns</p>\n",
       "</div>"
      ],
      "text/plain": [
       "   Unnamed: 0        CDSCode   Latitude  Longitude      FundingType type  \\\n",
       "0           1  1100170112607  37.804520 -122.26815  Directly funded    H   \n",
       "1           2  1100170123968  37.784648 -122.23863  Directly funded    E   \n",
       "\n",
       "  charter met_all  crit1  crit2    ...      school_code  partial_virtual  \\\n",
       "0       D     Yes      3      3    ...           112607            False   \n",
       "1       D      No      2      3    ...           123968            False   \n",
       "\n",
       "   all_virtual  any_virtual  perc_staff_masters  student_teacher  success  \\\n",
       "0        False        False                 NaN              NaN     True   \n",
       "1        False        False                 NaN              NaN    False   \n",
       "\n",
       "   math_above_avg english_above_avg  above_avg  \n",
       "0           False             False      False  \n",
       "1           False             False      False  \n",
       "\n",
       "[2 rows x 79 columns]"
      ]
     },
     "execution_count": 5,
     "metadata": {},
     "output_type": "execute_result"
    }
   ],
   "source": [
    "df =pd.read_csv('school_data.csv', sep='\\t',low_memory=False)\n",
    "df.head(2)"
   ]
  },
  {
   "cell_type": "code",
   "execution_count": null,
   "metadata": {
    "collapsed": true
   },
   "outputs": [],
   "source": [
    "map = Basemap(projection='merc', lat_0 = 57, lon_0 = -135,\n",
    "    resolut   ion = 'h', area_thresh = 0.1,\n",
    "    llcrnrlon=-136.25, llcrnrlat=56.0,\n",
    "    urcrnrlon=-134.25, urcrnrlat=57.75)\n",
    " \n",
    "map.drawcoastlines()\n",
    "map.drawcountries()\n",
    "map.fillcontinents(color = 'coral')\n",
    "map.drawmapboundary()\n",
    " \n",
    "plt.show()"
   ]
  }
 ],
 "metadata": {
  "anaconda-cloud": {},
  "kernelspec": {
   "display_name": "Python [Root]",
   "language": "python",
   "name": "Python [Root]"
  },
  "language_info": {
   "codemirror_mode": {
    "name": "ipython",
    "version": 2
   },
   "file_extension": ".py",
   "mimetype": "text/x-python",
   "name": "python",
   "nbconvert_exporter": "python",
   "pygments_lexer": "ipython2",
   "version": "2.7.12"
  }
 },
 "nbformat": 4,
 "nbformat_minor": 0
}
