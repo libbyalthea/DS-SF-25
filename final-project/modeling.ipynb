{
 "cells": [
  {
   "cell_type": "code",
   "execution_count": 1,
   "metadata": {
    "collapsed": false
   },
   "outputs": [],
   "source": [
    "import numpy as np\n",
    "import os\n",
    "import pandas as pd\n",
    "\n",
    "import matplotlib.pyplot as plt\n",
    "%matplotlib inline\n",
    "plt.style.use('ggplot')\n",
    "\n",
    "import seaborn as sb\n",
    "import statsmodels.formula.api as smf \n",
    "\n",
    "from pandasql import sqldf\n",
    "pysqldf = lambda q: sqldf(q, globals())\n",
    " \n",
    "\n",
    "from sklearn.preprocessing import StandardScaler\n",
    "\n",
    "from sklearn.cross_validation import train_test_split\n"
   ]
  },
  {
   "cell_type": "code",
   "execution_count": 2,
   "metadata": {
    "collapsed": false
   },
   "outputs": [
    {
     "data": {
      "text/html": [
       "<div>\n",
       "<table border=\"1\" class=\"dataframe\">\n",
       "  <thead>\n",
       "    <tr style=\"text-align: right;\">\n",
       "      <th></th>\n",
       "      <th>Unnamed: 0</th>\n",
       "      <th>CDSCode</th>\n",
       "      <th>Latitude</th>\n",
       "      <th>Longitude</th>\n",
       "      <th>FundingType</th>\n",
       "      <th>type</th>\n",
       "      <th>charter</th>\n",
       "      <th>met_all</th>\n",
       "      <th>crit1</th>\n",
       "      <th>crit2</th>\n",
       "      <th>...</th>\n",
       "      <th>school_code</th>\n",
       "      <th>partial_virtual</th>\n",
       "      <th>all_virtual</th>\n",
       "      <th>any_virtual</th>\n",
       "      <th>perc_staff_masters</th>\n",
       "      <th>student_teacher</th>\n",
       "      <th>success</th>\n",
       "      <th>math_above_avg</th>\n",
       "      <th>english_above_avg</th>\n",
       "      <th>above_avg</th>\n",
       "    </tr>\n",
       "  </thead>\n",
       "  <tbody>\n",
       "    <tr>\n",
       "      <th>0</th>\n",
       "      <td>1</td>\n",
       "      <td>1100170112607</td>\n",
       "      <td>37.804520</td>\n",
       "      <td>-122.26815</td>\n",
       "      <td>Directly funded</td>\n",
       "      <td>H</td>\n",
       "      <td>D</td>\n",
       "      <td>Yes</td>\n",
       "      <td>3</td>\n",
       "      <td>3</td>\n",
       "      <td>...</td>\n",
       "      <td>112607</td>\n",
       "      <td>False</td>\n",
       "      <td>False</td>\n",
       "      <td>False</td>\n",
       "      <td>NaN</td>\n",
       "      <td>NaN</td>\n",
       "      <td>True</td>\n",
       "      <td>False</td>\n",
       "      <td>False</td>\n",
       "      <td>False</td>\n",
       "    </tr>\n",
       "    <tr>\n",
       "      <th>1</th>\n",
       "      <td>2</td>\n",
       "      <td>1100170123968</td>\n",
       "      <td>37.784648</td>\n",
       "      <td>-122.23863</td>\n",
       "      <td>Directly funded</td>\n",
       "      <td>E</td>\n",
       "      <td>D</td>\n",
       "      <td>No</td>\n",
       "      <td>2</td>\n",
       "      <td>3</td>\n",
       "      <td>...</td>\n",
       "      <td>123968</td>\n",
       "      <td>False</td>\n",
       "      <td>False</td>\n",
       "      <td>False</td>\n",
       "      <td>NaN</td>\n",
       "      <td>NaN</td>\n",
       "      <td>False</td>\n",
       "      <td>False</td>\n",
       "      <td>False</td>\n",
       "      <td>False</td>\n",
       "    </tr>\n",
       "  </tbody>\n",
       "</table>\n",
       "<p>2 rows × 79 columns</p>\n",
       "</div>"
      ],
      "text/plain": [
       "   Unnamed: 0        CDSCode   Latitude  Longitude      FundingType type  \\\n",
       "0           1  1100170112607  37.804520 -122.26815  Directly funded    H   \n",
       "1           2  1100170123968  37.784648 -122.23863  Directly funded    E   \n",
       "\n",
       "  charter met_all  crit1  crit2    ...      school_code  partial_virtual  \\\n",
       "0       D     Yes      3      3    ...           112607            False   \n",
       "1       D      No      2      3    ...           123968            False   \n",
       "\n",
       "   all_virtual  any_virtual  perc_staff_masters  student_teacher  success  \\\n",
       "0        False        False                 NaN              NaN     True   \n",
       "1        False        False                 NaN              NaN    False   \n",
       "\n",
       "   math_above_avg english_above_avg  above_avg  \n",
       "0           False             False      False  \n",
       "1           False             False      False  \n",
       "\n",
       "[2 rows x 79 columns]"
      ]
     },
     "execution_count": 2,
     "metadata": {},
     "output_type": "execute_result"
    }
   ],
   "source": [
    "df =pd.read_csv('school_data.csv', sep='\\t',low_memory=False)\n",
    "df.head(2)"
   ]
  },
  {
   "cell_type": "code",
   "execution_count": 3,
   "metadata": {
    "collapsed": false
   },
   "outputs": [
    {
     "data": {
      "text/plain": [
       "perc_crit             9046\n",
       "perc_staff_masters    7305\n",
       "student_teacher       7305\n",
       "avg_years_teaching    7305\n",
       "total_enrollment      9046\n",
       "Truancy_Rate          9046\n",
       "median_income         9002\n",
       "any_virtual           9046\n",
       "perc_wh               9046\n",
       "perc_aa               9046\n",
       "perc_his              9046\n",
       "perc_as               9046\n",
       "success               9046\n",
       "m_pprof               9046\n",
       "e_pprof               9046\n",
       "above_avg             9046\n",
       "any_virtual           9046\n",
       "dtype: int64"
      ]
     },
     "execution_count": 3,
     "metadata": {},
     "output_type": "execute_result"
    }
   ],
   "source": [
    "df=df[['perc_crit','perc_staff_masters','student_teacher','avg_years_teaching','total_enrollment','Truancy_Rate','median_income','any_virtual','perc_wh','perc_aa','perc_his','perc_as','success','m_pprof','e_pprof','above_avg','any_virtual']]\n",
    "df.count()"
   ]
  },
  {
   "cell_type": "code",
   "execution_count": 4,
   "metadata": {
    "collapsed": true
   },
   "outputs": [],
   "source": [
    "#drop all nulls (for now. may revisit this)\n",
    "df=df.dropna()\n"
   ]
  },
  {
   "cell_type": "markdown",
   "metadata": {},
   "source": [
    "set variables"
   ]
  },
  {
   "cell_type": "code",
   "execution_count": 5,
   "metadata": {
    "collapsed": false
   },
   "outputs": [],
   "source": [
    "X=df[['perc_staff_masters','student_teacher','avg_years_teaching','total_enrollment','Truancy_Rate','median_income','any_virtual','perc_wh','perc_aa','perc_his','perc_as','any_virtual']]\n",
    "y=df['m_pprof']\n"
   ]
  },
  {
   "cell_type": "markdown",
   "metadata": {},
   "source": [
    "scale variables"
   ]
  },
  {
   "cell_type": "code",
   "execution_count": 6,
   "metadata": {
    "collapsed": true
   },
   "outputs": [],
   "source": [
    "scaler = StandardScaler().fit(X)"
   ]
  },
  {
   "cell_type": "code",
   "execution_count": 7,
   "metadata": {
    "collapsed": false
   },
   "outputs": [],
   "source": [
    "#clf.fit(scaler.transform(X), y)\n",
    "Xs=scaler.transform(X)"
   ]
  },
  {
   "cell_type": "code",
   "execution_count": 10,
   "metadata": {
    "collapsed": false
   },
   "outputs": [
    {
     "data": {
      "text/plain": [
       "array([[-0.23809908,  0.21309744, -2.13784627, ..., -0.44303444,\n",
       "        -0.28338903, -0.28338903],\n",
       "       [ 0.52531109,  0.1396661 , -2.57220196, ..., -0.56023437,\n",
       "        -0.28338903, -0.28338903],\n",
       "       [-0.37605821, -0.1599201 ,  0.08269976, ...,  1.81994459,\n",
       "        -0.28338903, -0.28338903],\n",
       "       ..., \n",
       "       [-0.38629047, -2.81005786, -2.00847684, ..., -0.05552437,\n",
       "        -0.28338903, -0.28338903],\n",
       "       [ 1.18947795, -0.90194156, -2.28050337, ..., -0.55499917,\n",
       "        -0.28338903, -0.28338903],\n",
       "       [-0.75874482, -0.19920359, -1.00747378, ..., -0.59478664,\n",
       "        -0.28338903, -0.28338903]])"
      ]
     },
     "execution_count": 10,
     "metadata": {},
     "output_type": "execute_result"
    }
   ],
   "source": [
    "Xs"
   ]
  },
  {
   "cell_type": "markdown",
   "metadata": {},
   "source": [
    "training and test sets"
   ]
  },
  {
   "cell_type": "code",
   "execution_count": 11,
   "metadata": {
    "collapsed": false
   },
   "outputs": [],
   "source": [
    "X_train, X_test, y_train, y_test = train_test_split(Xs, y, test_size=0.33, random_state=42)"
   ]
  },
  {
   "cell_type": "code",
   "execution_count": 19,
   "metadata": {
    "collapsed": false
   },
   "outputs": [],
   "source": [
    "model=smf.OLS(y_train,X_train).fit()\n",
    "#model=linear_model.LinearRegression().fit(X_train,y_train) #sklearn"
   ]
  },
  {
   "cell_type": "code",
   "execution_count": 21,
   "metadata": {
    "collapsed": false
   },
   "outputs": [
    {
     "data": {
      "text/html": [
       "<table class=\"simpletable\">\n",
       "<caption>OLS Regression Results</caption>\n",
       "<tr>\n",
       "  <th>Dep. Variable:</th>         <td>m_pprof</td>     <th>  R-squared:         </th> <td>   0.193</td> \n",
       "</tr>\n",
       "<tr>\n",
       "  <th>Model:</th>                   <td>OLS</td>       <th>  Adj. R-squared:    </th> <td>   0.192</td> \n",
       "</tr>\n",
       "<tr>\n",
       "  <th>Method:</th>             <td>Least Squares</td>  <th>  F-statistic:       </th> <td>   105.9</td> \n",
       "</tr>\n",
       "<tr>\n",
       "  <th>Date:</th>             <td>Thu, 15 Sep 2016</td> <th>  Prob (F-statistic):</th> <td>4.35e-217</td>\n",
       "</tr>\n",
       "<tr>\n",
       "  <th>Time:</th>                 <td>16:07:02</td>     <th>  Log-Likelihood:    </th> <td> -24184.</td> \n",
       "</tr>\n",
       "<tr>\n",
       "  <th>No. Observations:</th>      <td>  4866</td>      <th>  AIC:               </th> <td>4.839e+04</td>\n",
       "</tr>\n",
       "<tr>\n",
       "  <th>Df Residuals:</th>          <td>  4855</td>      <th>  BIC:               </th> <td>4.846e+04</td>\n",
       "</tr>\n",
       "<tr>\n",
       "  <th>Df Model:</th>              <td>    11</td>      <th>                     </th>     <td> </td>    \n",
       "</tr>\n",
       "<tr>\n",
       "  <th>Covariance Type:</th>      <td>nonrobust</td>    <th>                     </th>     <td> </td>    \n",
       "</tr>\n",
       "</table>\n",
       "<table class=\"simpletable\">\n",
       "<tr>\n",
       "   <td></td>      <th>coef</th>     <th>std err</th>      <th>t</th>      <th>P>|t|</th> <th>[95.0% Conf. Int.]</th> \n",
       "</tr>\n",
       "<tr>\n",
       "  <th>x1</th>  <td>    0.4129</td> <td>    0.503</td> <td>    0.821</td> <td> 0.411</td> <td>   -0.573     1.398</td>\n",
       "</tr>\n",
       "<tr>\n",
       "  <th>x2</th>  <td>    0.1430</td> <td>    0.508</td> <td>    0.282</td> <td> 0.778</td> <td>   -0.852     1.138</td>\n",
       "</tr>\n",
       "<tr>\n",
       "  <th>x3</th>  <td>    1.2930</td> <td>    0.497</td> <td>    2.602</td> <td> 0.009</td> <td>    0.319     2.267</td>\n",
       "</tr>\n",
       "<tr>\n",
       "  <th>x4</th>  <td>    2.0704</td> <td>    0.534</td> <td>    3.874</td> <td> 0.000</td> <td>    1.023     3.118</td>\n",
       "</tr>\n",
       "<tr>\n",
       "  <th>x5</th>  <td>   -3.4936</td> <td>    0.547</td> <td>   -6.391</td> <td> 0.000</td> <td>   -4.565    -2.422</td>\n",
       "</tr>\n",
       "<tr>\n",
       "  <th>x6</th>  <td>    5.3878</td> <td>    0.625</td> <td>    8.622</td> <td> 0.000</td> <td>    4.163     6.613</td>\n",
       "</tr>\n",
       "<tr>\n",
       "  <th>x7</th>  <td>   -0.4347</td> <td>    0.128</td> <td>   -3.399</td> <td> 0.001</td> <td>   -0.685    -0.184</td>\n",
       "</tr>\n",
       "<tr>\n",
       "  <th>x8</th>  <td>   -0.4347</td> <td>    0.128</td> <td>   -3.399</td> <td> 0.001</td> <td>   -0.685    -0.184</td>\n",
       "</tr>\n",
       "<tr>\n",
       "  <th>x9</th>  <td>    4.5906</td> <td>    2.112</td> <td>    2.173</td> <td> 0.030</td> <td>    0.450     8.731</td>\n",
       "</tr>\n",
       "<tr>\n",
       "  <th>x10</th> <td>   -2.0989</td> <td>    0.936</td> <td>   -2.243</td> <td> 0.025</td> <td>   -3.934    -0.264</td>\n",
       "</tr>\n",
       "<tr>\n",
       "  <th>x11</th> <td>   -3.9588</td> <td>    2.288</td> <td>   -1.730</td> <td> 0.084</td> <td>   -8.445     0.528</td>\n",
       "</tr>\n",
       "<tr>\n",
       "  <th>x12</th> <td>    6.8888</td> <td>    1.275</td> <td>    5.402</td> <td> 0.000</td> <td>    4.389     9.389</td>\n",
       "</tr>\n",
       "<tr>\n",
       "  <th>x13</th> <td>   -0.4347</td> <td>    0.128</td> <td>   -3.399</td> <td> 0.001</td> <td>   -0.685    -0.184</td>\n",
       "</tr>\n",
       "<tr>\n",
       "  <th>x14</th> <td>   -0.4347</td> <td>    0.128</td> <td>   -3.399</td> <td> 0.001</td> <td>   -0.685    -0.184</td>\n",
       "</tr>\n",
       "</table>\n",
       "<table class=\"simpletable\">\n",
       "<tr>\n",
       "  <th>Omnibus:</th>       <td>118.674</td> <th>  Durbin-Watson:     </th> <td>   0.225</td>\n",
       "</tr>\n",
       "<tr>\n",
       "  <th>Prob(Omnibus):</th> <td> 0.000</td>  <th>  Jarque-Bera (JB):  </th> <td> 257.173</td>\n",
       "</tr>\n",
       "<tr>\n",
       "  <th>Skew:</th>          <td>-0.104</td>  <th>  Prob(JB):          </th> <td>1.43e-56</td>\n",
       "</tr>\n",
       "<tr>\n",
       "  <th>Kurtosis:</th>      <td> 4.107</td>  <th>  Cond. No.          </th> <td>3.18e+48</td>\n",
       "</tr>\n",
       "</table>"
      ],
      "text/plain": [
       "<class 'statsmodels.iolib.summary.Summary'>\n",
       "\"\"\"\n",
       "                            OLS Regression Results                            \n",
       "==============================================================================\n",
       "Dep. Variable:                m_pprof   R-squared:                       0.193\n",
       "Model:                            OLS   Adj. R-squared:                  0.192\n",
       "Method:                 Least Squares   F-statistic:                     105.9\n",
       "Date:                Thu, 15 Sep 2016   Prob (F-statistic):          4.35e-217\n",
       "Time:                        16:07:02   Log-Likelihood:                -24184.\n",
       "No. Observations:                4866   AIC:                         4.839e+04\n",
       "Df Residuals:                    4855   BIC:                         4.846e+04\n",
       "Df Model:                          11                                         \n",
       "Covariance Type:            nonrobust                                         \n",
       "==============================================================================\n",
       "                 coef    std err          t      P>|t|      [95.0% Conf. Int.]\n",
       "------------------------------------------------------------------------------\n",
       "x1             0.4129      0.503      0.821      0.411        -0.573     1.398\n",
       "x2             0.1430      0.508      0.282      0.778        -0.852     1.138\n",
       "x3             1.2930      0.497      2.602      0.009         0.319     2.267\n",
       "x4             2.0704      0.534      3.874      0.000         1.023     3.118\n",
       "x5            -3.4936      0.547     -6.391      0.000        -4.565    -2.422\n",
       "x6             5.3878      0.625      8.622      0.000         4.163     6.613\n",
       "x7            -0.4347      0.128     -3.399      0.001        -0.685    -0.184\n",
       "x8            -0.4347      0.128     -3.399      0.001        -0.685    -0.184\n",
       "x9             4.5906      2.112      2.173      0.030         0.450     8.731\n",
       "x10           -2.0989      0.936     -2.243      0.025        -3.934    -0.264\n",
       "x11           -3.9588      2.288     -1.730      0.084        -8.445     0.528\n",
       "x12            6.8888      1.275      5.402      0.000         4.389     9.389\n",
       "x13           -0.4347      0.128     -3.399      0.001        -0.685    -0.184\n",
       "x14           -0.4347      0.128     -3.399      0.001        -0.685    -0.184\n",
       "==============================================================================\n",
       "Omnibus:                      118.674   Durbin-Watson:                   0.225\n",
       "Prob(Omnibus):                  0.000   Jarque-Bera (JB):              257.173\n",
       "Skew:                          -0.104   Prob(JB):                     1.43e-56\n",
       "Kurtosis:                       4.107   Cond. No.                     3.18e+48\n",
       "==============================================================================\n",
       "\n",
       "Warnings:\n",
       "[1] Standard Errors assume that the covariance matrix of the errors is correctly specified.\n",
       "[2] The smallest eigenvalue is 1.98e-93. This might indicate that there are\n",
       "strong multicollinearity problems or that the design matrix is singular.\n",
       "\"\"\""
      ]
     },
     "execution_count": 21,
     "metadata": {},
     "output_type": "execute_result"
    }
   ],
   "source": [
    "model.summary()"
   ]
  },
  {
   "cell_type": "code",
   "execution_count": null,
   "metadata": {
    "collapsed": false
   },
   "outputs": [],
   "source": []
  }
 ],
 "metadata": {
  "anaconda-cloud": {},
  "kernelspec": {
   "display_name": "Python [Root]",
   "language": "python",
   "name": "Python [Root]"
  },
  "language_info": {
   "codemirror_mode": {
    "name": "ipython",
    "version": 2
   },
   "file_extension": ".py",
   "mimetype": "text/x-python",
   "name": "python",
   "nbconvert_exporter": "python",
   "pygments_lexer": "ipython2",
   "version": "2.7.12"
  }
 },
 "nbformat": 4,
 "nbformat_minor": 0
}
